{
 "cells": [
  {
   "cell_type": "code",
   "execution_count": 1,
   "metadata": {},
   "outputs": [],
   "source": [
    "%load_ext autoreload\n",
    "%autoreload 2"
   ]
  },
  {
   "cell_type": "code",
   "execution_count": 2,
   "metadata": {},
   "outputs": [
    {
     "name": "stderr",
     "output_type": "stream",
     "text": [
      "/Users/michaelfrantz/miniconda3/envs/autodm/lib/python3.11/site-packages/tqdm/auto.py:21: TqdmWarning: IProgress not found. Please update jupyter and ipywidgets. See https://ipywidgets.readthedocs.io/en/stable/user_install.html\n",
      "  from .autonotebook import tqdm as notebook_tqdm\n"
     ]
    }
   ],
   "source": [
    "from autodm.llm import get_llm\n",
    "from autodm.roll import Dice, DiceType\n",
    "from autodm.character import Character\n",
    "from autodm.locaitons import Location, LocationGraph, setup_new_locations\n",
    "from autodm.adventurelog import AdventureLog\n",
    "from autodm.storyline import StoryLineWithStoryItems\n",
    "\n",
    "from rich import print"
   ]
  },
  {
   "cell_type": "code",
   "execution_count": 3,
   "metadata": {},
   "outputs": [],
   "source": [
    "locations = setup_new_locations()"
   ]
  },
  {
   "cell_type": "code",
   "execution_count": 4,
   "metadata": {},
   "outputs": [],
   "source": [
    "region = locations[locations.list_locations('region').pop()]\n",
    "city = locations[locations.list_locations('city').pop()]"
   ]
  },
  {
   "cell_type": "code",
   "execution_count": 5,
   "metadata": {},
   "outputs": [],
   "source": [
    "# building = city.generate_child(type='building', storyline=\"The adventurers enter the wizard's guild\")\n",
    "# room1 = building.generate_child(storyline=\"The adventurers find and enter the wizard's library.\")\n",
    "# room2 = building.generate_child(storyline=\"The adventurers find and enter thewizard's alchemy lab\")\n",
    "# room3 = building.generate_child(storyline=\"The adventurers find and enter thewizard's training range\")\n",
    "# locations.add_location(building)\n",
    "# locations.add_location(room1)\n",
    "# locations.add_location(room2)\n",
    "# locations.add_location(room3)\n",
    "# locations.set_current_location(room1.name)"
   ]
  },
  {
   "cell_type": "code",
   "execution_count": 6,
   "metadata": {},
   "outputs": [
    {
     "data": {
      "text/html": [
       "<pre style=\"white-space:pre;overflow-x:auto;line-height:normal;font-family:Menlo,'DejaVu Sans Mono',consolas,'Courier New',monospace\"><span style=\"color: #800080; text-decoration-color: #800080; font-weight: bold\">Character</span><span style=\"font-weight: bold\">(</span>\n",
       "    <span style=\"color: #808000; text-decoration-color: #808000\">chr_class</span>=<span style=\"color: #008000; text-decoration-color: #008000\">'wizard'</span>,\n",
       "    <span style=\"color: #808000; text-decoration-color: #808000\">chr_race</span>=<span style=\"color: #008000; text-decoration-color: #008000\">'human'</span>,\n",
       "    <span style=\"color: #808000; text-decoration-color: #808000\">name</span>=<span style=\"color: #008000; text-decoration-color: #008000\">'Aldric'</span>,\n",
       "    <span style=\"color: #808000; text-decoration-color: #808000\">attributes</span>=<span style=\"color: #800080; text-decoration-color: #800080; font-weight: bold\">Attributes</span><span style=\"font-weight: bold\">(</span><span style=\"color: #808000; text-decoration-color: #808000\">strength</span>=<span style=\"color: #008080; text-decoration-color: #008080; font-weight: bold\">16</span>, <span style=\"color: #808000; text-decoration-color: #808000\">dexterity</span>=<span style=\"color: #008080; text-decoration-color: #008080; font-weight: bold\">10</span>, <span style=\"color: #808000; text-decoration-color: #808000\">constitution</span>=<span style=\"color: #008080; text-decoration-color: #008080; font-weight: bold\">12</span>, <span style=\"color: #808000; text-decoration-color: #808000\">intelligence</span>=<span style=\"color: #008080; text-decoration-color: #008080; font-weight: bold\">3</span>, <span style=\"color: #808000; text-decoration-color: #808000\">wisdom</span>=<span style=\"color: #008080; text-decoration-color: #008080; font-weight: bold\">13</span>, <span style=\"color: #808000; text-decoration-color: #808000\">charisma</span>=<span style=\"color: #008080; text-decoration-color: #008080; font-weight: bold\">2</span><span style=\"font-weight: bold\">)</span>,\n",
       "    <span style=\"color: #808000; text-decoration-color: #808000\">level</span>=<span style=\"color: #008080; text-decoration-color: #008080; font-weight: bold\">0</span>,\n",
       "    <span style=\"color: #808000; text-decoration-color: #808000\">max_hp</span>=<span style=\"color: #008080; text-decoration-color: #008080; font-weight: bold\">22</span>,\n",
       "    <span style=\"color: #808000; text-decoration-color: #808000\">hp</span>=<span style=\"color: #008080; text-decoration-color: #008080; font-weight: bold\">22</span>,\n",
       "    <span style=\"color: #808000; text-decoration-color: #808000\">spells</span>=<span style=\"font-weight: bold\">[]</span>,\n",
       "    <span style=\"color: #808000; text-decoration-color: #808000\">equipment</span>=<span style=\"font-weight: bold\">[]</span>\n",
       "<span style=\"font-weight: bold\">)</span>\n",
       "</pre>\n"
      ],
      "text/plain": [
       "\u001b[1;35mCharacter\u001b[0m\u001b[1m(\u001b[0m\n",
       "    \u001b[33mchr_class\u001b[0m=\u001b[32m'wizard'\u001b[0m,\n",
       "    \u001b[33mchr_race\u001b[0m=\u001b[32m'human'\u001b[0m,\n",
       "    \u001b[33mname\u001b[0m=\u001b[32m'Aldric'\u001b[0m,\n",
       "    \u001b[33mattributes\u001b[0m=\u001b[1;35mAttributes\u001b[0m\u001b[1m(\u001b[0m\u001b[33mstrength\u001b[0m=\u001b[1;36m16\u001b[0m, \u001b[33mdexterity\u001b[0m=\u001b[1;36m10\u001b[0m, \u001b[33mconstitution\u001b[0m=\u001b[1;36m12\u001b[0m, \u001b[33mintelligence\u001b[0m=\u001b[1;36m3\u001b[0m, \u001b[33mwisdom\u001b[0m=\u001b[1;36m13\u001b[0m, \u001b[33mcharisma\u001b[0m=\u001b[1;36m2\u001b[0m\u001b[1m)\u001b[0m,\n",
       "    \u001b[33mlevel\u001b[0m=\u001b[1;36m0\u001b[0m,\n",
       "    \u001b[33mmax_hp\u001b[0m=\u001b[1;36m22\u001b[0m,\n",
       "    \u001b[33mhp\u001b[0m=\u001b[1;36m22\u001b[0m,\n",
       "    \u001b[33mspells\u001b[0m=\u001b[1m[\u001b[0m\u001b[1m]\u001b[0m,\n",
       "    \u001b[33mequipment\u001b[0m=\u001b[1m[\u001b[0m\u001b[1m]\u001b[0m\n",
       "\u001b[1m)\u001b[0m\n"
      ]
     },
     "metadata": {},
     "output_type": "display_data"
    }
   ],
   "source": [
    "character = Character.generate(level=0)\n",
    "print(character)"
   ]
  },
  {
   "cell_type": "code",
   "execution_count": 7,
   "metadata": {},
   "outputs": [],
   "source": [
    "story = StoryLineWithStoryItems.generate(character, city, region, locations)"
   ]
  }
 ],
 "metadata": {
  "kernelspec": {
   "display_name": "autodm",
   "language": "python",
   "name": "python3"
  },
  "language_info": {
   "codemirror_mode": {
    "name": "ipython",
    "version": 3
   },
   "file_extension": ".py",
   "mimetype": "text/x-python",
   "name": "python",
   "nbconvert_exporter": "python",
   "pygments_lexer": "ipython3",
   "version": "3.11.9"
  }
 },
 "nbformat": 4,
 "nbformat_minor": 2
}
