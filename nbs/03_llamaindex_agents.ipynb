{
 "cells": [
  {
   "cell_type": "code",
   "execution_count": 1,
   "metadata": {},
   "outputs": [],
   "source": [
    "%load_ext autoreload\n",
    "%autoreload 2"
   ]
  },
  {
   "cell_type": "code",
   "execution_count": 2,
   "metadata": {},
   "outputs": [
    {
     "name": "stderr",
     "output_type": "stream",
     "text": [
      "/Users/michaelfrantz/miniconda3/envs/autodm/lib/python3.11/site-packages/tqdm/auto.py:21: TqdmWarning: IProgress not found. Please update jupyter and ipywidgets. See https://ipywidgets.readthedocs.io/en/stable/user_install.html\n",
      "  from .autonotebook import tqdm as notebook_tqdm\n"
     ]
    }
   ],
   "source": [
    "from autodm.llm import get_llm\n",
    "from autodm.roll import Dice, DiceType\n",
    "from autodm.character import Character\n",
    "from autodm.locaitons import Location, LocationStore, setup_new_locations\n",
    "from autodm.storyline import StoryLineWithStoryItems\n",
    "\n",
    "from rich import print"
   ]
  },
  {
   "cell_type": "code",
   "execution_count": 7,
   "metadata": {},
   "outputs": [],
   "source": [
    "from llama_index.core.program import LLMTextCompletionProgram\n",
    "from llama_index.vector_stores.lancedb import LanceDBVectorStore\n",
    "from llama_index.embeddings.huggingface import HuggingFaceEmbedding\n",
    "from datetime import datetime\n",
    "from llama_index.core import PromptTemplate, StorageContext, VectorStoreIndex\n",
    "from pydantic import BaseModel, Field\n",
    "from typing import Optional, List, Any\n",
    "from pathlib import Path\n",
    "import torch"
   ]
  },
  {
   "cell_type": "code",
   "execution_count": null,
   "metadata": {},
   "outputs": [],
   "source": [
    "character = Character.generate(level=0)\n",
    "print(character)"
   ]
  },
  {
   "cell_type": "code",
   "execution_count": null,
   "metadata": {},
   "outputs": [],
   "source": [
    "locations = setup_new_locations()\n",
    "print(locations)"
   ]
  },
  {
   "cell_type": "code",
   "execution_count": null,
   "metadata": {},
   "outputs": [],
   "source": [
    "city, region = locations.current, locations.get(locations.current.parent_name)"
   ]
  },
  {
   "cell_type": "code",
   "execution_count": null,
   "metadata": {},
   "outputs": [],
   "source": [
    "story = StoryLineWithStoryItems.generate(character, city, region, locations)"
   ]
  },
  {
   "cell_type": "code",
   "execution_count": null,
   "metadata": {},
   "outputs": [],
   "source": [
    "VECTORSTORE_DIR = Path('~').expanduser() / '.autodm/vectorstore'\n",
    "if not VECTORSTORE_DIR.exists():\n",
    "    VECTORSTORE_DIR.mkdir(parents=True)\n",
    "\n",
    "ADVENTURE_LOG_TABLE_NAME = 'adventure_log'"
   ]
  },
  {
   "cell_type": "code",
   "execution_count": null,
   "metadata": {},
   "outputs": [],
   "source": [
    "adventure_log_vectorstore = LanceDBVectorStore(uri=str(VECTORSTORE_DIR), table_name=str(ADVENTURE_LOG_TABLE_NAME))\n",
    "storage_context = StorageContext.from_defaults(vector_store=adventure_log_vectorstore)"
   ]
  },
  {
   "cell_type": "code",
   "execution_count": 5,
   "metadata": {},
   "outputs": [],
   "source": [
    "def get_device():\n",
    "    if torch.backends.mps.is_available():\n",
    "        return 'mps'\n",
    "    elif torch.cuda.is_available():\n",
    "        return 'cuda'\n",
    "    else:\n",
    "        return 'cpu'"
   ]
  },
  {
   "cell_type": "code",
   "execution_count": null,
   "metadata": {},
   "outputs": [],
   "source": [
    "class AdventureLog:\n",
    "    def __init__(self, lance_uri=VECTORSTORE_DIR, lance_table=ADVENTURE_LOG_TABLE_NAME):\n",
    "        self.lance_uri = lance_uri\n",
    "        self.lance_table = lance_table\n",
    "        self.storage_context = self._setup_storage_context()\n",
    "        self.index = self._setup_index()\n",
    "\n",
    "    def _setup_storage_context(self):\n",
    "        return StorageContext.from_defaults(\n",
    "            vector_store=LanceDBVectorStore(\n",
    "                uri=str(self.lance_uri), table_name=str(self.lance_table)\n",
    "            )\n",
    "        )\n",
    "    \n",
    "    def _setup_index(self):\n",
    "        index = VectorStoreIndex(\n",
    "            embed_model=HuggingFaceEmbedding(\n",
    "                \"Alibaba-NLP/gte-base-en-v1.5\", device=get_device(), trust_remote_code=True\n",
    "            ),\n",
    "            storage_context=self.storage_context,\n",
    "        )\n",
    "        return index\n",
    "        \n",
    "    \n",
    "    def add_entry(self, entry:str):\n",
    "        "
   ]
  }
 ],
 "metadata": {
  "kernelspec": {
   "display_name": "autodm",
   "language": "python",
   "name": "python3"
  },
  "language_info": {
   "codemirror_mode": {
    "name": "ipython",
    "version": 3
   },
   "file_extension": ".py",
   "mimetype": "text/x-python",
   "name": "python",
   "nbconvert_exporter": "python",
   "pygments_lexer": "ipython3",
   "version": "3.11.9"
  }
 },
 "nbformat": 4,
 "nbformat_minor": 2
}
