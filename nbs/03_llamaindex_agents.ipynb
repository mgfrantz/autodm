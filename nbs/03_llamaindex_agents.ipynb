{
 "cells": [
  {
   "cell_type": "code",
   "execution_count": 1,
   "metadata": {},
   "outputs": [],
   "source": [
    "%load_ext autoreload\n",
    "%autoreload 2"
   ]
  },
  {
   "cell_type": "code",
   "execution_count": 1,
   "metadata": {},
   "outputs": [
    {
     "name": "stderr",
     "output_type": "stream",
     "text": [
      "/Users/michaelfrantz/miniconda3/envs/autodm/lib/python3.11/site-packages/tqdm/auto.py:21: TqdmWarning: IProgress not found. Please update jupyter and ipywidgets. See https://ipywidgets.readthedocs.io/en/stable/user_install.html\n",
      "  from .autonotebook import tqdm as notebook_tqdm\n"
     ]
    }
   ],
   "source": [
    "from autodm.llm import get_llm\n",
    "from autodm.roll import Dice, DiceType\n",
    "from autodm.character import Character\n",
    "from autodm.locaitons import Location, LocationStore, setup_new_locations\n",
    "from autodm.storyline import StoryLineWithStoryItems\n",
    "\n",
    "from rich import print"
   ]
  },
  {
   "cell_type": "code",
   "execution_count": 2,
   "metadata": {},
   "outputs": [],
   "source": [
    "from llama_index.core.program import LLMTextCompletionProgram\n",
    "from llama_index.vector_stores.lancedb import LanceDBVectorStore\n",
    "from llama_index.embeddings.huggingface import HuggingFaceEmbedding\n",
    "from llama_index.core import PromptTemplate, StorageContext, VectorStoreIndex, Document\n",
    "from llama_index.core.postprocessor import FixedRecencyPostprocessor\n",
    "from llama_index.core.node_parser import SimpleNodeParser\n",
    "from pydantic import BaseModel, Field\n",
    "from typing import Optional, List, Any, Union\n",
    "from pathlib import Path\n",
    "from datetime import datetime\n",
    "import torch"
   ]
  },
  {
   "cell_type": "code",
   "execution_count": 4,
   "metadata": {},
   "outputs": [
    {
     "data": {
      "text/html": [
       "<pre style=\"white-space:pre;overflow-x:auto;line-height:normal;font-family:Menlo,'DejaVu Sans Mono',consolas,'Courier New',monospace\"><span style=\"color: #800080; text-decoration-color: #800080; font-weight: bold\">Character</span><span style=\"font-weight: bold\">(</span>\n",
       "    <span style=\"color: #808000; text-decoration-color: #808000\">chr_class</span>=<span style=\"color: #008000; text-decoration-color: #008000\">'wizard'</span>,\n",
       "    <span style=\"color: #808000; text-decoration-color: #808000\">chr_race</span>=<span style=\"color: #008000; text-decoration-color: #008000\">'human'</span>,\n",
       "    <span style=\"color: #808000; text-decoration-color: #808000\">name</span>=<span style=\"color: #008000; text-decoration-color: #008000\">'Aria Moonshadow'</span>,\n",
       "    <span style=\"color: #808000; text-decoration-color: #808000\">attributes</span>=<span style=\"color: #800080; text-decoration-color: #800080; font-weight: bold\">Attributes</span><span style=\"font-weight: bold\">(</span><span style=\"color: #808000; text-decoration-color: #808000\">strength</span>=<span style=\"color: #008080; text-decoration-color: #008080; font-weight: bold\">15</span>, <span style=\"color: #808000; text-decoration-color: #808000\">dexterity</span>=<span style=\"color: #008080; text-decoration-color: #008080; font-weight: bold\">1</span>, <span style=\"color: #808000; text-decoration-color: #808000\">constitution</span>=<span style=\"color: #008080; text-decoration-color: #008080; font-weight: bold\">8</span>, <span style=\"color: #808000; text-decoration-color: #808000\">intelligence</span>=<span style=\"color: #008080; text-decoration-color: #008080; font-weight: bold\">8</span>, <span style=\"color: #808000; text-decoration-color: #808000\">wisdom</span>=<span style=\"color: #008080; text-decoration-color: #008080; font-weight: bold\">20</span>, <span style=\"color: #808000; text-decoration-color: #808000\">charisma</span>=<span style=\"color: #008080; text-decoration-color: #008080; font-weight: bold\">11</span><span style=\"font-weight: bold\">)</span>,\n",
       "    <span style=\"color: #808000; text-decoration-color: #808000\">level</span>=<span style=\"color: #008080; text-decoration-color: #008080; font-weight: bold\">0</span>,\n",
       "    <span style=\"color: #808000; text-decoration-color: #808000\">max_hp</span>=<span style=\"color: #008080; text-decoration-color: #008080; font-weight: bold\">18</span>,\n",
       "    <span style=\"color: #808000; text-decoration-color: #808000\">hp</span>=<span style=\"color: #008080; text-decoration-color: #008080; font-weight: bold\">18</span>,\n",
       "    <span style=\"color: #808000; text-decoration-color: #808000\">spells</span>=<span style=\"font-weight: bold\">[]</span>,\n",
       "    <span style=\"color: #808000; text-decoration-color: #808000\">equipment</span>=<span style=\"font-weight: bold\">[]</span>\n",
       "<span style=\"font-weight: bold\">)</span>\n",
       "</pre>\n"
      ],
      "text/plain": [
       "\u001b[1;35mCharacter\u001b[0m\u001b[1m(\u001b[0m\n",
       "    \u001b[33mchr_class\u001b[0m=\u001b[32m'wizard'\u001b[0m,\n",
       "    \u001b[33mchr_race\u001b[0m=\u001b[32m'human'\u001b[0m,\n",
       "    \u001b[33mname\u001b[0m=\u001b[32m'Aria Moonshadow'\u001b[0m,\n",
       "    \u001b[33mattributes\u001b[0m=\u001b[1;35mAttributes\u001b[0m\u001b[1m(\u001b[0m\u001b[33mstrength\u001b[0m=\u001b[1;36m15\u001b[0m, \u001b[33mdexterity\u001b[0m=\u001b[1;36m1\u001b[0m, \u001b[33mconstitution\u001b[0m=\u001b[1;36m8\u001b[0m, \u001b[33mintelligence\u001b[0m=\u001b[1;36m8\u001b[0m, \u001b[33mwisdom\u001b[0m=\u001b[1;36m20\u001b[0m, \u001b[33mcharisma\u001b[0m=\u001b[1;36m11\u001b[0m\u001b[1m)\u001b[0m,\n",
       "    \u001b[33mlevel\u001b[0m=\u001b[1;36m0\u001b[0m,\n",
       "    \u001b[33mmax_hp\u001b[0m=\u001b[1;36m18\u001b[0m,\n",
       "    \u001b[33mhp\u001b[0m=\u001b[1;36m18\u001b[0m,\n",
       "    \u001b[33mspells\u001b[0m=\u001b[1m[\u001b[0m\u001b[1m]\u001b[0m,\n",
       "    \u001b[33mequipment\u001b[0m=\u001b[1m[\u001b[0m\u001b[1m]\u001b[0m\n",
       "\u001b[1m)\u001b[0m\n"
      ]
     },
     "metadata": {},
     "output_type": "display_data"
    }
   ],
   "source": [
    "character = Character.generate(level=0)\n",
    "print(character)"
   ]
  },
  {
   "cell_type": "code",
   "execution_count": 5,
   "metadata": {},
   "outputs": [
    {
     "data": {
      "text/html": [
       "<pre style=\"white-space:pre;overflow-x:auto;line-height:normal;font-family:Menlo,'DejaVu Sans Mono',consolas,'Courier New',monospace\"><span style=\"font-weight: bold\">{</span>\n",
       "    <span style=\"color: #008000; text-decoration-color: #008000\">'The Great Forest of Eldarath'</span>: <span style=\"color: #800080; text-decoration-color: #800080; font-weight: bold\">Location</span><span style=\"font-weight: bold\">(</span>\n",
       "        <span style=\"color: #808000; text-decoration-color: #808000\">type</span>=<span style=\"color: #008000; text-decoration-color: #008000\">'region'</span>,\n",
       "        <span style=\"color: #808000; text-decoration-color: #808000\">name</span>=<span style=\"color: #008000; text-decoration-color: #008000\">'The Great Forest of Eldarath'</span>,\n",
       "        <span style=\"color: #808000; text-decoration-color: #808000\">description</span>=<span style=\"color: #008000; text-decoration-color: #008000\">'A vast and ancient forest that covers most of the eastern part of the kingdom. It is home to </span>\n",
       "<span style=\"color: #008000; text-decoration-color: #008000\">many mysterious creatures, magical plants, and ruins from an ancient civilization.'</span>,\n",
       "        <span style=\"color: #808000; text-decoration-color: #808000\">parent_name</span>=<span style=\"color: #800080; text-decoration-color: #800080; font-style: italic\">None</span>,\n",
       "        <span style=\"color: #808000; text-decoration-color: #808000\">parent_description</span>=<span style=\"color: #800080; text-decoration-color: #800080; font-style: italic\">None</span>\n",
       "    <span style=\"font-weight: bold\">)</span>,\n",
       "    <span style=\"color: #008000; text-decoration-color: #008000\">\"Eldarath's Haven\"</span>: <span style=\"color: #800080; text-decoration-color: #800080; font-weight: bold\">Location</span><span style=\"font-weight: bold\">(</span>\n",
       "        <span style=\"color: #808000; text-decoration-color: #808000\">type</span>=<span style=\"color: #008000; text-decoration-color: #008000\">'city'</span>,\n",
       "        <span style=\"color: #808000; text-decoration-color: #808000\">name</span>=<span style=\"color: #008000; text-decoration-color: #008000\">\"Eldarath's Haven\"</span>,\n",
       "        <span style=\"color: #808000; text-decoration-color: #808000\">description</span>=<span style=\"color: #008000; text-decoration-color: #008000\">\"A bustling city built at the edge of the Great Forest of Eldarath, it serves as a hub for </span>\n",
       "<span style=\"color: #008000; text-decoration-color: #008000\">traders and adventurers alike who seek to explore the forest's mysteries.\"</span>,\n",
       "        <span style=\"color: #808000; text-decoration-color: #808000\">parent_name</span>=<span style=\"color: #008000; text-decoration-color: #008000\">'The Great Forest of Eldarath'</span>,\n",
       "        <span style=\"color: #808000; text-decoration-color: #808000\">parent_description</span>=<span style=\"color: #008000; text-decoration-color: #008000\">'A vast and ancient forest that covers most of the eastern part of the kingdom. It is </span>\n",
       "<span style=\"color: #008000; text-decoration-color: #008000\">home to many mysterious creatures, magical plants, and ruins from an ancient civilization.'</span>\n",
       "    <span style=\"font-weight: bold\">)</span>\n",
       "<span style=\"font-weight: bold\">}</span>\n",
       "</pre>\n"
      ],
      "text/plain": [
       "\u001b[1m{\u001b[0m\n",
       "    \u001b[32m'The Great Forest of Eldarath'\u001b[0m: \u001b[1;35mLocation\u001b[0m\u001b[1m(\u001b[0m\n",
       "        \u001b[33mtype\u001b[0m=\u001b[32m'region'\u001b[0m,\n",
       "        \u001b[33mname\u001b[0m=\u001b[32m'The Great Forest of Eldarath'\u001b[0m,\n",
       "        \u001b[33mdescription\u001b[0m=\u001b[32m'A vast and ancient forest that covers most of the eastern part of the kingdom. It is home to \u001b[0m\n",
       "\u001b[32mmany mysterious creatures, magical plants, and ruins from an ancient civilization.'\u001b[0m,\n",
       "        \u001b[33mparent_name\u001b[0m=\u001b[3;35mNone\u001b[0m,\n",
       "        \u001b[33mparent_description\u001b[0m=\u001b[3;35mNone\u001b[0m\n",
       "    \u001b[1m)\u001b[0m,\n",
       "    \u001b[32m\"Eldarath's Haven\"\u001b[0m: \u001b[1;35mLocation\u001b[0m\u001b[1m(\u001b[0m\n",
       "        \u001b[33mtype\u001b[0m=\u001b[32m'city'\u001b[0m,\n",
       "        \u001b[33mname\u001b[0m=\u001b[32m\"Eldarath\u001b[0m\u001b[32m's Haven\"\u001b[0m,\n",
       "        \u001b[33mdescription\u001b[0m=\u001b[32m\"A\u001b[0m\u001b[32m bustling city built at the edge of the Great Forest of Eldarath, it serves as a hub for \u001b[0m\n",
       "\u001b[32mtraders and adventurers alike who seek to explore the forest's mysteries.\"\u001b[0m,\n",
       "        \u001b[33mparent_name\u001b[0m=\u001b[32m'The Great Forest of Eldarath'\u001b[0m,\n",
       "        \u001b[33mparent_description\u001b[0m=\u001b[32m'A vast and ancient forest that covers most of the eastern part of the kingdom. It is \u001b[0m\n",
       "\u001b[32mhome to many mysterious creatures, magical plants, and ruins from an ancient civilization.'\u001b[0m\n",
       "    \u001b[1m)\u001b[0m\n",
       "\u001b[1m}\u001b[0m\n"
      ]
     },
     "metadata": {},
     "output_type": "display_data"
    }
   ],
   "source": [
    "locations = setup_new_locations()\n",
    "print(locations)"
   ]
  },
  {
   "cell_type": "code",
   "execution_count": 6,
   "metadata": {},
   "outputs": [],
   "source": [
    "city, region = locations.current, locations.get(locations.current.parent_name)"
   ]
  },
  {
   "cell_type": "code",
   "execution_count": 7,
   "metadata": {},
   "outputs": [],
   "source": [
    "story = StoryLineWithStoryItems.generate(character, city, region, locations)"
   ]
  },
  {
   "cell_type": "code",
   "execution_count": 8,
   "metadata": {},
   "outputs": [
    {
     "data": {
      "text/html": [
       "<pre style=\"white-space:pre;overflow-x:auto;line-height:normal;font-family:Menlo,'DejaVu Sans Mono',consolas,'Courier New',monospace\"><span style=\"color: #800080; text-decoration-color: #800080; font-weight: bold\">StoryLineWithStoryItems</span><span style=\"font-weight: bold\">(</span>\n",
       "    <span style=\"color: #808000; text-decoration-color: #808000\">name</span>=<span style=\"color: #008000; text-decoration-color: #008000\">'The Lost Ruins of Eldarath'</span>,\n",
       "    <span style=\"color: #808000; text-decoration-color: #808000\">details</span>=<span style=\"color: #008000; text-decoration-color: #008000\">'The party has been tasked with finding and exploring the lost ruins of an ancient civilization </span>\n",
       "<span style=\"color: #008000; text-decoration-color: #008000\">believed to be located deep within the Great Forest of Eldarath. The ruins are said to hold great power and </span>\n",
       "<span style=\"color: #008000; text-decoration-color: #008000\">knowledge, but also dangerous secrets that could threaten the entire kingdom if not properly dealt with.'</span>,\n",
       "    <span style=\"color: #808000; text-decoration-color: #808000\">completed</span>=<span style=\"color: #ff0000; text-decoration-color: #ff0000; font-style: italic\">False</span>,\n",
       "    <span style=\"color: #808000; text-decoration-color: #808000\">items</span>=<span style=\"color: #800080; text-decoration-color: #800080; font-weight: bold\">StoryItems</span><span style=\"font-weight: bold\">(</span>\n",
       "        <span style=\"color: #808000; text-decoration-color: #808000\">items</span>=<span style=\"font-weight: bold\">[</span>\n",
       "            <span style=\"color: #800080; text-decoration-color: #800080; font-weight: bold\">StoryItem</span><span style=\"font-weight: bold\">(</span>\n",
       "                <span style=\"color: #808000; text-decoration-color: #808000\">name</span>=<span style=\"color: #008000; text-decoration-color: #008000\">'The Lost Ruins of Eldarath'</span>,\n",
       "                <span style=\"color: #808000; text-decoration-color: #808000\">details</span>=<span style=\"color: #008000; text-decoration-color: #008000\">'The party has been tasked with finding and exploring the lost ruins of an ancient </span>\n",
       "<span style=\"color: #008000; text-decoration-color: #008000\">civilization believed to be located deep within the Great Forest of Eldarath. The ruins are said to hold great </span>\n",
       "<span style=\"color: #008000; text-decoration-color: #008000\">power and knowledge, but also dangerous secrets that could threaten the entire kingdom if not properly dealt </span>\n",
       "<span style=\"color: #008000; text-decoration-color: #008000\">with.'</span>,\n",
       "                <span style=\"color: #808000; text-decoration-color: #808000\">completed</span>=<span style=\"color: #ff0000; text-decoration-color: #ff0000; font-style: italic\">False</span>\n",
       "            <span style=\"font-weight: bold\">)</span>,\n",
       "            <span style=\"color: #800080; text-decoration-color: #800080; font-weight: bold\">StoryItem</span><span style=\"font-weight: bold\">(</span>\n",
       "                <span style=\"color: #808000; text-decoration-color: #808000\">name</span>=<span style=\"color: #008000; text-decoration-color: #008000\">'Encounter with the Ancient Guardian'</span>,\n",
       "                <span style=\"color: #808000; text-decoration-color: #808000\">details</span>=<span style=\"color: #008000; text-decoration-color: #008000\">'The party discovers an enormous stone statue of a long-forgotten deity guarding the </span>\n",
       "<span style=\"color: #008000; text-decoration-color: #008000\">entrance to the ruins. To progress, they must solve a riddle or defeat the guardian in combat.'</span>,\n",
       "                <span style=\"color: #808000; text-decoration-color: #808000\">completed</span>=<span style=\"color: #ff0000; text-decoration-color: #ff0000; font-style: italic\">False</span>\n",
       "            <span style=\"font-weight: bold\">)</span>,\n",
       "            <span style=\"color: #800080; text-decoration-color: #800080; font-weight: bold\">StoryItem</span><span style=\"font-weight: bold\">(</span>\n",
       "                <span style=\"color: #808000; text-decoration-color: #808000\">name</span>=<span style=\"color: #008000; text-decoration-color: #008000\">'Treasure of Eldarath'</span>,\n",
       "                <span style=\"color: #808000; text-decoration-color: #808000\">details</span>=<span style=\"color: #008000; text-decoration-color: #008000\">'Within the ruins, the party discovers an ancient artifact known as the Treasure of </span>\n",
       "<span style=\"color: #008000; text-decoration-color: #008000\">Eldarath. The artifact is said to grant immense power to whoever possesses it, but also comes with a great curse.'</span>,\n",
       "                <span style=\"color: #808000; text-decoration-color: #808000\">completed</span>=<span style=\"color: #ff0000; text-decoration-color: #ff0000; font-style: italic\">False</span>\n",
       "            <span style=\"font-weight: bold\">)</span>,\n",
       "            <span style=\"color: #800080; text-decoration-color: #800080; font-weight: bold\">StoryItem</span><span style=\"font-weight: bold\">(</span>\n",
       "                <span style=\"color: #808000; text-decoration-color: #808000\">name</span>=<span style=\"color: #008000; text-decoration-color: #008000\">'The Cursed Curse'</span>,\n",
       "                <span style=\"color: #808000; text-decoration-color: #808000\">details</span>=<span style=\"color: #008000; text-decoration-color: #008000\">'As the party examines the Treasure of Eldarath, they trigger a powerful curse that begins </span>\n",
       "<span style=\"color: #008000; text-decoration-color: #008000\">to affect their minds and bodies. They must find a way to break the curse before it consumes them entirely.'</span>,\n",
       "                <span style=\"color: #808000; text-decoration-color: #808000\">completed</span>=<span style=\"color: #ff0000; text-decoration-color: #ff0000; font-style: italic\">False</span>\n",
       "            <span style=\"font-weight: bold\">)</span>,\n",
       "            <span style=\"color: #800080; text-decoration-color: #800080; font-weight: bold\">StoryItem</span><span style=\"font-weight: bold\">(</span>\n",
       "                <span style=\"color: #808000; text-decoration-color: #808000\">name</span>=<span style=\"color: #008000; text-decoration-color: #008000\">'The Final Decision'</span>,\n",
       "                <span style=\"color: #808000; text-decoration-color: #808000\">details</span>=<span style=\"color: #008000; text-decoration-color: #008000\">'The party faces a choice: keep the Treasure of Eldarath and risk the consequences, or </span>\n",
       "<span style=\"color: #008000; text-decoration-color: #008000\">destroy the artifact and save their friends from the curse. The decision they make will determine the fate of the </span>\n",
       "<span style=\"color: #008000; text-decoration-color: #008000\">kingdom.'</span>,\n",
       "                <span style=\"color: #808000; text-decoration-color: #808000\">completed</span>=<span style=\"color: #ff0000; text-decoration-color: #ff0000; font-style: italic\">False</span>\n",
       "            <span style=\"font-weight: bold\">)</span>\n",
       "        <span style=\"font-weight: bold\">]</span>\n",
       "    <span style=\"font-weight: bold\">)</span>\n",
       "<span style=\"font-weight: bold\">)</span>\n",
       "</pre>\n"
      ],
      "text/plain": [
       "\u001b[1;35mStoryLineWithStoryItems\u001b[0m\u001b[1m(\u001b[0m\n",
       "    \u001b[33mname\u001b[0m=\u001b[32m'The Lost Ruins of Eldarath'\u001b[0m,\n",
       "    \u001b[33mdetails\u001b[0m=\u001b[32m'The party has been tasked with finding and exploring the lost ruins of an ancient civilization \u001b[0m\n",
       "\u001b[32mbelieved to be located deep within the Great Forest of Eldarath. The ruins are said to hold great power and \u001b[0m\n",
       "\u001b[32mknowledge, but also dangerous secrets that could threaten the entire kingdom if not properly dealt with.'\u001b[0m,\n",
       "    \u001b[33mcompleted\u001b[0m=\u001b[3;91mFalse\u001b[0m,\n",
       "    \u001b[33mitems\u001b[0m=\u001b[1;35mStoryItems\u001b[0m\u001b[1m(\u001b[0m\n",
       "        \u001b[33mitems\u001b[0m=\u001b[1m[\u001b[0m\n",
       "            \u001b[1;35mStoryItem\u001b[0m\u001b[1m(\u001b[0m\n",
       "                \u001b[33mname\u001b[0m=\u001b[32m'The Lost Ruins of Eldarath'\u001b[0m,\n",
       "                \u001b[33mdetails\u001b[0m=\u001b[32m'The party has been tasked with finding and exploring the lost ruins of an ancient \u001b[0m\n",
       "\u001b[32mcivilization believed to be located deep within the Great Forest of Eldarath. The ruins are said to hold great \u001b[0m\n",
       "\u001b[32mpower and knowledge, but also dangerous secrets that could threaten the entire kingdom if not properly dealt \u001b[0m\n",
       "\u001b[32mwith.'\u001b[0m,\n",
       "                \u001b[33mcompleted\u001b[0m=\u001b[3;91mFalse\u001b[0m\n",
       "            \u001b[1m)\u001b[0m,\n",
       "            \u001b[1;35mStoryItem\u001b[0m\u001b[1m(\u001b[0m\n",
       "                \u001b[33mname\u001b[0m=\u001b[32m'Encounter with the Ancient Guardian'\u001b[0m,\n",
       "                \u001b[33mdetails\u001b[0m=\u001b[32m'The party discovers an enormous stone statue of a long-forgotten deity guarding the \u001b[0m\n",
       "\u001b[32mentrance to the ruins. To progress, they must solve a riddle or defeat the guardian in combat.'\u001b[0m,\n",
       "                \u001b[33mcompleted\u001b[0m=\u001b[3;91mFalse\u001b[0m\n",
       "            \u001b[1m)\u001b[0m,\n",
       "            \u001b[1;35mStoryItem\u001b[0m\u001b[1m(\u001b[0m\n",
       "                \u001b[33mname\u001b[0m=\u001b[32m'Treasure of Eldarath'\u001b[0m,\n",
       "                \u001b[33mdetails\u001b[0m=\u001b[32m'Within the ruins, the party discovers an ancient artifact known as the Treasure of \u001b[0m\n",
       "\u001b[32mEldarath. The artifact is said to grant immense power to whoever possesses it, but also comes with a great curse.'\u001b[0m,\n",
       "                \u001b[33mcompleted\u001b[0m=\u001b[3;91mFalse\u001b[0m\n",
       "            \u001b[1m)\u001b[0m,\n",
       "            \u001b[1;35mStoryItem\u001b[0m\u001b[1m(\u001b[0m\n",
       "                \u001b[33mname\u001b[0m=\u001b[32m'The Cursed Curse'\u001b[0m,\n",
       "                \u001b[33mdetails\u001b[0m=\u001b[32m'As the party examines the Treasure of Eldarath, they trigger a powerful curse that begins \u001b[0m\n",
       "\u001b[32mto affect their minds and bodies. They must find a way to break the curse before it consumes them entirely.'\u001b[0m,\n",
       "                \u001b[33mcompleted\u001b[0m=\u001b[3;91mFalse\u001b[0m\n",
       "            \u001b[1m)\u001b[0m,\n",
       "            \u001b[1;35mStoryItem\u001b[0m\u001b[1m(\u001b[0m\n",
       "                \u001b[33mname\u001b[0m=\u001b[32m'The Final Decision'\u001b[0m,\n",
       "                \u001b[33mdetails\u001b[0m=\u001b[32m'The party faces a choice: keep the Treasure of Eldarath and risk the consequences, or \u001b[0m\n",
       "\u001b[32mdestroy the artifact and save their friends from the curse. The decision they make will determine the fate of the \u001b[0m\n",
       "\u001b[32mkingdom.'\u001b[0m,\n",
       "                \u001b[33mcompleted\u001b[0m=\u001b[3;91mFalse\u001b[0m\n",
       "            \u001b[1m)\u001b[0m\n",
       "        \u001b[1m]\u001b[0m\n",
       "    \u001b[1m)\u001b[0m\n",
       "\u001b[1m)\u001b[0m\n"
      ]
     },
     "metadata": {},
     "output_type": "display_data"
    }
   ],
   "source": [
    "print(story)"
   ]
  },
  {
   "cell_type": "code",
   "execution_count": 3,
   "metadata": {},
   "outputs": [],
   "source": [
    "VECTORSTORE_DIR = Path('~').expanduser() / '.autodm/vectorstore'\n",
    "if not VECTORSTORE_DIR.exists():\n",
    "    VECTORSTORE_DIR.mkdir(parents=True)\n",
    "\n",
    "ADVENTURE_LOG_TABLE_NAME = 'adventure_log'"
   ]
  },
  {
   "cell_type": "code",
   "execution_count": 4,
   "metadata": {},
   "outputs": [],
   "source": [
    "adventure_log_vectorstore = LanceDBVectorStore(uri=str(VECTORSTORE_DIR), table_name=str(ADVENTURE_LOG_TABLE_NAME))\n",
    "storage_context = StorageContext.from_defaults(vector_store=adventure_log_vectorstore)\n"
   ]
  },
  {
   "cell_type": "code",
   "execution_count": 5,
   "metadata": {},
   "outputs": [],
   "source": [
    "def get_device():\n",
    "    if torch.backends.mps.is_available():\n",
    "        return 'mps'\n",
    "    elif torch.cuda.is_available():\n",
    "        return 'cuda'\n",
    "    else:\n",
    "        return 'cpu'"
   ]
  },
  {
   "cell_type": "code",
   "execution_count": 15,
   "metadata": {},
   "outputs": [],
   "source": [
    "class AdventureLog:\n",
    "    def __init__(self, lance_uri=VECTORSTORE_DIR, lance_table=ADVENTURE_LOG_TABLE_NAME):\n",
    "        self.lance_uri = lance_uri\n",
    "        self.lance_table = lance_table\n",
    "        self.storage_context = self._setup_storage_context()\n",
    "        try:\n",
    "            self.index = self._setup_index()\n",
    "        except Exception as e:\n",
    "            self.index = None\n",
    "            print(\"Failed to set up index. Will try again on first log.\", e)\n",
    "\n",
    "    def _setup_storage_context(self):\n",
    "        return StorageContext.from_defaults(\n",
    "            vector_store=LanceDBVectorStore(\n",
    "                uri=str(self.lance_uri), table_name=str(self.lance_table)\n",
    "            )\n",
    "        )\n",
    "\n",
    "    def _setup_index(self, doc_or_docs: Union[Document, List[Document]] = None):\n",
    "        embed_model = HuggingFaceEmbedding(\n",
    "            \"Alibaba-NLP/gte-base-en-v1.5\", device=get_device(), trust_remote_code=True\n",
    "        )\n",
    "        if doc_or_docs is not None:\n",
    "            if not isinstance(doc_or_docs, list):\n",
    "                doc_or_docs = [doc_or_docs]\n",
    "            return VectorStoreIndex.from_documents(\n",
    "                doc_or_docs,\n",
    "                embed_model=embed_model,\n",
    "                storage_context=self.storage_context,\n",
    "            )\n",
    "        else:\n",
    "            return VectorStoreIndex.from_vector_store(\n",
    "                vector_store = self.storage_context.vector_store,\n",
    "                embed_model=embed_model, \n",
    "                storage_context=self.storage_context\n",
    "            )\n",
    "\n",
    "    def add_entry(self, entry: str, user: str = \"dm\"):\n",
    "        doc = Document(\n",
    "            text=entry, extra_info={\"user\": user, \"timestamp\": str(datetime.now())}\n",
    "        )\n",
    "        if self.index is None:\n",
    "            self.index = self._setup_index(doc)\n",
    "        else:\n",
    "            self.index.insert(doc)\n",
    "\n",
    "    def search(self, query: str, top_k: int = 5):\n",
    "        postprocessor = FixedRecencyPostprocessor(date_key='timestamp')\n",
    "        query_engine = self.index.as_query_engine(llm=get_llm(output_cls=str), similarity_top_k=top_k, node_postprocessors=[postprocessor])\n",
    "        return query_engine.query(query)\n",
    "    \n",
    "    def clear(self):\n",
    "        if input(\"Are you sure you want to clear the adventure log? (y/n): \").lower() == 'y':\n",
    "            self.storage_context.vector_store.client.drop_table(self.lance_table)\n",
    "            self.index = None"
   ]
  },
  {
   "cell_type": "code",
   "execution_count": 16,
   "metadata": {},
   "outputs": [
    {
     "data": {
      "text/plain": [
       "<bound method VectorStoreIndex.from_vector_store of <class 'llama_index.core.indices.vector_store.base.VectorStoreIndex'>>"
      ]
     },
     "execution_count": 16,
     "metadata": {},
     "output_type": "execute_result"
    }
   ],
   "source": [
    "VectorStoreIndex.from_vector_store"
   ]
  },
  {
   "cell_type": "code",
   "execution_count": 17,
   "metadata": {},
   "outputs": [
    {
     "name": "stderr",
     "output_type": "stream",
     "text": [
      "/Users/michaelfrantz/miniconda3/envs/autodm/lib/python3.11/site-packages/huggingface_hub/file_download.py:1132: FutureWarning: `resume_download` is deprecated and will be removed in version 1.0.0. Downloads always resume when possible. If you want to force a new download, use `force_download=True`.\n",
      "  warnings.warn(\n"
     ]
    }
   ],
   "source": [
    "log = AdventureLog()"
   ]
  },
  {
   "cell_type": "code",
   "execution_count": 14,
   "metadata": {},
   "outputs": [
    {
     "name": "stderr",
     "output_type": "stream",
     "text": [
      "/Users/michaelfrantz/miniconda3/envs/autodm/lib/python3.11/site-packages/huggingface_hub/file_download.py:1132: FutureWarning: `resume_download` is deprecated and will be removed in version 1.0.0. Downloads always resume when possible. If you want to force a new download, use `force_download=True`.\n",
      "  warnings.warn(\n",
      "[2024-06-02T04:31:58Z WARN  lance::dataset] No existing dataset at /Users/michaelfrantz/.autodm/vectorstore/adventure_log.lance, it will be created\n"
     ]
    }
   ],
   "source": [
    "log.add_entry(\"We look around the city and observe many small buildings surrounding a towering palace in the center of the city.\")"
   ]
  },
  {
   "cell_type": "code",
   "execution_count": 15,
   "metadata": {},
   "outputs": [],
   "source": [
    "log.add_entry(\"We enter the tavern in the southeast corner of the city. We see a bar, a few tables, and a stage for performances.\")"
   ]
  },
  {
   "cell_type": "code",
   "execution_count": 22,
   "metadata": {},
   "outputs": [],
   "source": [
    "log.clear()"
   ]
  },
  {
   "cell_type": "code",
   "execution_count": null,
   "metadata": {},
   "outputs": [],
   "source": []
  }
 ],
 "metadata": {
  "kernelspec": {
   "display_name": "autodm",
   "language": "python",
   "name": "python3"
  },
  "language_info": {
   "codemirror_mode": {
    "name": "ipython",
    "version": 3
   },
   "file_extension": ".py",
   "mimetype": "text/x-python",
   "name": "python",
   "nbconvert_exporter": "python",
   "pygments_lexer": "ipython3",
   "version": "3.11.9"
  }
 },
 "nbformat": 4,
 "nbformat_minor": 2
}
