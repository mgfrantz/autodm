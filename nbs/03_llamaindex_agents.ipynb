{
 "cells": [
  {
   "cell_type": "code",
   "execution_count": 1,
   "metadata": {},
   "outputs": [],
   "source": [
    "%load_ext autoreload\n",
    "%autoreload 2"
   ]
  },
  {
   "cell_type": "code",
   "execution_count": 7,
   "metadata": {},
   "outputs": [],
   "source": [
    "from autodm.llm import get_llm\n",
    "from autodm.roll import Dice, DiceType\n",
    "from autodm.character import Character\n",
    "from autodm.locaitons import Location, LocationStore\n",
    "\n",
    "from rich import print"
   ]
  },
  {
   "cell_type": "code",
   "execution_count": 17,
   "metadata": {},
   "outputs": [],
   "source": [
    "from llama_index.core.program import LLMTextCompletionProgram\n",
    "from llama_index.core import PromptTemplate\n",
    "from pydantic import BaseModel, Field\n",
    "from typing import Optional, List, Any"
   ]
  },
  {
   "cell_type": "code",
   "execution_count": 3,
   "metadata": {},
   "outputs": [],
   "source": [
    "character = Character.generate(level=0)\n",
    "print(character)"
   ]
  },
  {
   "cell_type": "code",
   "execution_count": 9,
   "metadata": {},
   "outputs": [
    {
     "data": {
      "text/html": [
       "<pre style=\"white-space:pre;overflow-x:auto;line-height:normal;font-family:Menlo,'DejaVu Sans Mono',consolas,'Courier New',monospace\"><span style=\"font-weight: bold\">{</span>\n",
       "    <span style=\"color: #008000; text-decoration-color: #008000\">'The Kingdom of Elvendom'</span>: <span style=\"color: #800080; text-decoration-color: #800080; font-weight: bold\">Location</span><span style=\"font-weight: bold\">(</span>\n",
       "        <span style=\"color: #808000; text-decoration-color: #808000\">type</span>=<span style=\"color: #008000; text-decoration-color: #008000\">'region'</span>,\n",
       "        <span style=\"color: #808000; text-decoration-color: #808000\">name</span>=<span style=\"color: #008000; text-decoration-color: #008000\">'The Kingdom of Elvendom'</span>,\n",
       "        <span style=\"color: #808000; text-decoration-color: #808000\">description</span>=<span style=\"color: #008000; text-decoration-color: #008000\">'A vast, lush kingdom ruled by the elven people, filled with ancient forests and crystal-clear </span>\n",
       "<span style=\"color: #008000; text-decoration-color: #008000\">lakes. The elves are known for their mastery of magic and archery, and they live in harmony with nature.'</span>,\n",
       "        <span style=\"color: #808000; text-decoration-color: #808000\">parent_name</span>=<span style=\"color: #800080; text-decoration-color: #800080; font-style: italic\">None</span>,\n",
       "        <span style=\"color: #808000; text-decoration-color: #808000\">parent_description</span>=<span style=\"color: #800080; text-decoration-color: #800080; font-style: italic\">None</span>\n",
       "    <span style=\"font-weight: bold\">)</span>\n",
       "<span style=\"font-weight: bold\">}</span>\n",
       "</pre>\n"
      ],
      "text/plain": [
       "\u001b[1m{\u001b[0m\n",
       "    \u001b[32m'The Kingdom of Elvendom'\u001b[0m: \u001b[1;35mLocation\u001b[0m\u001b[1m(\u001b[0m\n",
       "        \u001b[33mtype\u001b[0m=\u001b[32m'region'\u001b[0m,\n",
       "        \u001b[33mname\u001b[0m=\u001b[32m'The Kingdom of Elvendom'\u001b[0m,\n",
       "        \u001b[33mdescription\u001b[0m=\u001b[32m'A vast, lush kingdom ruled by the elven people, filled with ancient forests and crystal-clear \u001b[0m\n",
       "\u001b[32mlakes. The elves are known for their mastery of magic and archery, and they live in harmony with nature.'\u001b[0m,\n",
       "        \u001b[33mparent_name\u001b[0m=\u001b[3;35mNone\u001b[0m,\n",
       "        \u001b[33mparent_description\u001b[0m=\u001b[3;35mNone\u001b[0m\n",
       "    \u001b[1m)\u001b[0m\n",
       "\u001b[1m}\u001b[0m\n"
      ]
     },
     "metadata": {},
     "output_type": "display_data"
    }
   ],
   "source": [
    "region = Location.generate(type=\"region\")\n",
    "locations = LocationStore(region, **{region.name: region})\n",
    "print(locations)"
   ]
  },
  {
   "cell_type": "code",
   "execution_count": 12,
   "metadata": {},
   "outputs": [],
   "source": [
    "city = locations.current.generate_child(type=\"city\")\n",
    "while city.type != \"city\":\n",
    "    city = locations.current.generate_child(type=\"city\")\n",
    "locations.add(city)\n",
    "locations.set_current(city)"
   ]
  },
  {
   "cell_type": "code",
   "execution_count": 13,
   "metadata": {},
   "outputs": [
    {
     "data": {
      "text/html": [
       "<pre style=\"white-space:pre;overflow-x:auto;line-height:normal;font-family:Menlo,'DejaVu Sans Mono',consolas,'Courier New',monospace\"><span style=\"font-weight: bold\">{</span>\n",
       "    <span style=\"color: #008000; text-decoration-color: #008000\">'The Kingdom of Elvendom'</span>: <span style=\"color: #800080; text-decoration-color: #800080; font-weight: bold\">Location</span><span style=\"font-weight: bold\">(</span>\n",
       "        <span style=\"color: #808000; text-decoration-color: #808000\">type</span>=<span style=\"color: #008000; text-decoration-color: #008000\">'region'</span>,\n",
       "        <span style=\"color: #808000; text-decoration-color: #808000\">name</span>=<span style=\"color: #008000; text-decoration-color: #008000\">'The Kingdom of Elvendom'</span>,\n",
       "        <span style=\"color: #808000; text-decoration-color: #808000\">description</span>=<span style=\"color: #008000; text-decoration-color: #008000\">'A vast, lush kingdom ruled by the elven people, filled with ancient forests and crystal-clear </span>\n",
       "<span style=\"color: #008000; text-decoration-color: #008000\">lakes. The elves are known for their mastery of magic and archery, and they live in harmony with nature.'</span>,\n",
       "        <span style=\"color: #808000; text-decoration-color: #808000\">parent_name</span>=<span style=\"color: #800080; text-decoration-color: #800080; font-style: italic\">None</span>,\n",
       "        <span style=\"color: #808000; text-decoration-color: #808000\">parent_description</span>=<span style=\"color: #800080; text-decoration-color: #800080; font-style: italic\">None</span>\n",
       "    <span style=\"font-weight: bold\">)</span>,\n",
       "    <span style=\"color: #008000; text-decoration-color: #008000\">'Elvendale'</span>: <span style=\"color: #800080; text-decoration-color: #800080; font-weight: bold\">Location</span><span style=\"font-weight: bold\">(</span>\n",
       "        <span style=\"color: #808000; text-decoration-color: #808000\">type</span>=<span style=\"color: #008000; text-decoration-color: #008000\">'city'</span>,\n",
       "        <span style=\"color: #808000; text-decoration-color: #808000\">name</span>=<span style=\"color: #008000; text-decoration-color: #008000\">'Elvendale'</span>,\n",
       "        <span style=\"color: #808000; text-decoration-color: #808000\">description</span>=<span style=\"color: #008000; text-decoration-color: #008000\">'A beautiful and bustling elven city nestled in the heart of the Kingdom of Elvendom, known for</span>\n",
       "<span style=\"color: #008000; text-decoration-color: #008000\">its grand architecture and enchanting atmosphere. The city is a hub of trade and culture, with a diverse population</span>\n",
       "<span style=\"color: #008000; text-decoration-color: #008000\">of elves from all across the kingdom.'</span>,\n",
       "        <span style=\"color: #808000; text-decoration-color: #808000\">parent_name</span>=<span style=\"color: #008000; text-decoration-color: #008000\">'The Kingdom of Elvendom'</span>,\n",
       "        <span style=\"color: #808000; text-decoration-color: #808000\">parent_description</span>=<span style=\"color: #008000; text-decoration-color: #008000\">'A vast, lush kingdom ruled by the elven people, filled with ancient forests and </span>\n",
       "<span style=\"color: #008000; text-decoration-color: #008000\">crystal-clear lakes. The elves are known for their mastery of magic and archery, and they live in harmony with </span>\n",
       "<span style=\"color: #008000; text-decoration-color: #008000\">nature.'</span>\n",
       "    <span style=\"font-weight: bold\">)</span>\n",
       "<span style=\"font-weight: bold\">}</span>\n",
       "</pre>\n"
      ],
      "text/plain": [
       "\u001b[1m{\u001b[0m\n",
       "    \u001b[32m'The Kingdom of Elvendom'\u001b[0m: \u001b[1;35mLocation\u001b[0m\u001b[1m(\u001b[0m\n",
       "        \u001b[33mtype\u001b[0m=\u001b[32m'region'\u001b[0m,\n",
       "        \u001b[33mname\u001b[0m=\u001b[32m'The Kingdom of Elvendom'\u001b[0m,\n",
       "        \u001b[33mdescription\u001b[0m=\u001b[32m'A vast, lush kingdom ruled by the elven people, filled with ancient forests and crystal-clear \u001b[0m\n",
       "\u001b[32mlakes. The elves are known for their mastery of magic and archery, and they live in harmony with nature.'\u001b[0m,\n",
       "        \u001b[33mparent_name\u001b[0m=\u001b[3;35mNone\u001b[0m,\n",
       "        \u001b[33mparent_description\u001b[0m=\u001b[3;35mNone\u001b[0m\n",
       "    \u001b[1m)\u001b[0m,\n",
       "    \u001b[32m'Elvendale'\u001b[0m: \u001b[1;35mLocation\u001b[0m\u001b[1m(\u001b[0m\n",
       "        \u001b[33mtype\u001b[0m=\u001b[32m'city'\u001b[0m,\n",
       "        \u001b[33mname\u001b[0m=\u001b[32m'Elvendale'\u001b[0m,\n",
       "        \u001b[33mdescription\u001b[0m=\u001b[32m'A beautiful and bustling elven city nestled in the heart of the Kingdom of Elvendom, known for\u001b[0m\n",
       "\u001b[32mits grand architecture and enchanting atmosphere. The city is a hub of trade and culture, with a diverse population\u001b[0m\n",
       "\u001b[32mof elves from all across the kingdom.'\u001b[0m,\n",
       "        \u001b[33mparent_name\u001b[0m=\u001b[32m'The Kingdom of Elvendom'\u001b[0m,\n",
       "        \u001b[33mparent_description\u001b[0m=\u001b[32m'A vast, lush kingdom ruled by the elven people, filled with ancient forests and \u001b[0m\n",
       "\u001b[32mcrystal-clear lakes. The elves are known for their mastery of magic and archery, and they live in harmony with \u001b[0m\n",
       "\u001b[32mnature.'\u001b[0m\n",
       "    \u001b[1m)\u001b[0m\n",
       "\u001b[1m}\u001b[0m\n"
      ]
     },
     "metadata": {},
     "output_type": "display_data"
    }
   ],
   "source": [
    "print(locations)"
   ]
  },
  {
   "cell_type": "code",
   "execution_count": 29,
   "metadata": {},
   "outputs": [],
   "source": [
    "class StoryItem(BaseModel):\n",
    "    \"A story item for a D&D campaign.\"\n",
    "    name: str = Field(..., title=\"Name\", description=\"The name of the story item.\")\n",
    "    details: str = Field(..., title=\"Description\", description=\"A description of the story item.\")\n",
    "\n",
    "class StoryItems(BaseModel):\n",
    "    items: List[StoryItem] = Field([], title=\"Items\", description=\"The story items in the storyline.\")\n",
    "\n",
    "class Storyline(BaseModel):\n",
    "    \"A storyline for a D&D campaign. Contains the overarching story for a one-shot campaign.\"\n",
    "    name: str = Field(..., title=\"Name\", description=\"The name of the storyline.\")\n",
    "    details: str = Field(..., title=\"Description\", description=\"A description of the storyline.\")\n",
    "    items: Optional[List[StoryItem]] = Field([], title=\"Items\", description=\"The story items in the storyline.\")\n",
    "\n",
    "    @classmethod\n",
    "    def generate(cls, character, city, region, locations):\n",
    "        start_story_template = PromptTemplate(\"\"\"\\\n",
    "You are a dungeion master creating a storyline for a D&D one-shot campaign. \\\n",
    "Here are the characters in the party: \n",
    "{characters}\n",
    "                                      \n",
    "The party is currently in the {current_location} of the {region} region. \\\n",
    "Here is the detailed location information:\n",
    "{locations}\n",
    "                                      \n",
    "Please create the name and details for the storyline. Do not generate any story items yet. \\\n",
    "                                      \n",
    "Answer: \\\n",
    "\"\"\").partial_format(characters=[character], current_location=city.name, region=region.name, locations=locations)\n",
    "        storyline_program = LLMTextCompletionProgram.from_defaults(llm=get_llm(), prompt=start_story_template, output_cls=Storyline)\n",
    "        storyline = storyline_program()\n",
    "        \n",
    "        return program()\n",
    "    \n",
    "    def generate_story_items(self):\n",
    "        start_story_item_template = PromptTemplate(\"\"\"\\\n",
    "You are a dungeion master creating a story item for a D&D quest. \\\n",
    "Here is the storyline you are working on:\n",
    "Title: {name}\n",
    "Description: {details}\n",
    "                                                   \n",
    "Create 3-5 events that will happen in the storyline if it's followed. \\\n",
    "The final event should be the conclusion of the storyline. \\\n",
    "\"\"\")"
   ]
  },
  {
   "cell_type": "code",
   "execution_count": 28,
   "metadata": {},
   "outputs": [
    {
     "data": {
      "text/plain": [
       "Storyline(name='The Quest for the Elvendale Crystal', details=\"The Kingdom of Elvendom is facing an imminent threat as the powerful Elvendale Crystal, which grants magical energy to the entire realm, has gone missing. The crystal's absence causes the land to wither and lose its luster, and without it, the elves' magic fades.\", items=[StoryItem(name='The Lost Crystal', details='The Elvendale Crystal, a large gemstone imbued with powerful arcane energy, has vanished without a trace. It is said that a group of dark creatures from the neighboring realm have stolen it to harness its power for their own nefarious purposes.'), StoryItem(name='The Dark Creatures', details='A band of goblins and orcs led by a powerful necromancer has taken the crystal, using its energy to resurrect their fallen comrades and create an army of undead. They are marching towards Elvendale with the intent to conquer it.'), StoryItem(name='The Journey', details='To reclaim the crystal, the party must embark on a treacherous journey through the dark forests and mountains of the Kingdom of Elvendom. Along the way, they will encounter various challenges and obstacles that test their skills and abilities.'), StoryItem(name='The Final Battle', details='Upon reaching the lair of the necromancer, the party must face off against the dark creatures and their undead army in a final showdown. If they succeed in defeating the necromancer and recovering the Elvendale Crystal, they will restore the magic and prosperity to the Kingdom of Elvendom.')])"
      ]
     },
     "execution_count": 28,
     "metadata": {},
     "output_type": "execute_result"
    }
   ],
   "source": [
    "Storyline.generate(character, city, region, locations)"
   ]
  },
  {
   "cell_type": "code",
   "execution_count": 19,
   "metadata": {},
   "outputs": [],
   "source": [
    "start_story_template = PromptTemplate(\"\"\"\\\n",
    "You are a dungeion master creating a storyline for a D&D one-shot campaign. \\\n",
    "Here are the characters in the party: \n",
    "{characters}\n",
    "                                      \n",
    "The party is currently in the {current_location} of the {region} region. \\\n",
    "Here is the detailed location information:\n",
    "{locations}\n",
    "                                      \n",
    "Create 3-5 major story items for the storyline. \\\n",
    "Each story item should have a name and a description. \\\n",
    "When the storyline is complete, the quest should be achieved.\\\n",
    "                                      \n",
    "Storyline: \\\n",
    "\"\"\").partial_format(characters=[character], current_location=city.name, region=region.name, locations=locations)"
   ]
  },
  {
   "cell_type": "code",
   "execution_count": 20,
   "metadata": {},
   "outputs": [],
   "source": [
    "llm = get_llm()"
   ]
  },
  {
   "cell_type": "code",
   "execution_count": 23,
   "metadata": {},
   "outputs": [],
   "source": [
    "program = LLMTextCompletionProgram.from_defaults(llm=get_llm(), prompt=start_story_template, output_cls=Storyline)"
   ]
  },
  {
   "cell_type": "code",
   "execution_count": 24,
   "metadata": {},
   "outputs": [
    {
     "ename": "ValidationError",
     "evalue": "1 validation error for Storyline\ndetails\n  Field required [type=missing, input_value={'name': 'The Quest for t...dawns upon the land.'}]}, input_type=dict]\n    For further information visit https://errors.pydantic.dev/2.7/v/missing",
     "output_type": "error",
     "traceback": [
      "\u001b[0;31m---------------------------------------------------------------------------\u001b[0m",
      "\u001b[0;31mValidationError\u001b[0m                           Traceback (most recent call last)",
      "Cell \u001b[0;32mIn[24], line 1\u001b[0m\n\u001b[0;32m----> 1\u001b[0m \u001b[43mprogram\u001b[49m\u001b[43m(\u001b[49m\u001b[43m)\u001b[49m\n",
      "File \u001b[0;32m~/miniconda3/envs/autodm/lib/python3.11/site-packages/llama_index/core/program/llm_program.py:103\u001b[0m, in \u001b[0;36mLLMTextCompletionProgram.__call__\u001b[0;34m(self, llm_kwargs, *args, **kwargs)\u001b[0m\n\u001b[1;32m     99\u001b[0m     response \u001b[38;5;241m=\u001b[39m \u001b[38;5;28mself\u001b[39m\u001b[38;5;241m.\u001b[39m_llm\u001b[38;5;241m.\u001b[39mcomplete(formatted_prompt, \u001b[38;5;241m*\u001b[39m\u001b[38;5;241m*\u001b[39mllm_kwargs)\n\u001b[1;32m    101\u001b[0m     raw_output \u001b[38;5;241m=\u001b[39m response\u001b[38;5;241m.\u001b[39mtext\n\u001b[0;32m--> 103\u001b[0m output \u001b[38;5;241m=\u001b[39m \u001b[38;5;28;43mself\u001b[39;49m\u001b[38;5;241;43m.\u001b[39;49m\u001b[43m_output_parser\u001b[49m\u001b[38;5;241;43m.\u001b[39;49m\u001b[43mparse\u001b[49m\u001b[43m(\u001b[49m\u001b[43mraw_output\u001b[49m\u001b[43m)\u001b[49m\n\u001b[1;32m    104\u001b[0m \u001b[38;5;28;01mif\u001b[39;00m \u001b[38;5;129;01mnot\u001b[39;00m \u001b[38;5;28misinstance\u001b[39m(output, \u001b[38;5;28mself\u001b[39m\u001b[38;5;241m.\u001b[39m_output_cls):\n\u001b[1;32m    105\u001b[0m     \u001b[38;5;28;01mraise\u001b[39;00m \u001b[38;5;167;01mValueError\u001b[39;00m(\n\u001b[1;32m    106\u001b[0m         \u001b[38;5;124mf\u001b[39m\u001b[38;5;124m\"\u001b[39m\u001b[38;5;124mOutput parser returned \u001b[39m\u001b[38;5;132;01m{\u001b[39;00m\u001b[38;5;28mtype\u001b[39m(output)\u001b[38;5;132;01m}\u001b[39;00m\u001b[38;5;124m but expected \u001b[39m\u001b[38;5;132;01m{\u001b[39;00m\u001b[38;5;28mself\u001b[39m\u001b[38;5;241m.\u001b[39m_output_cls\u001b[38;5;132;01m}\u001b[39;00m\u001b[38;5;124m\"\u001b[39m\n\u001b[1;32m    107\u001b[0m     )\n",
      "File \u001b[0;32m~/miniconda3/envs/autodm/lib/python3.11/site-packages/llama_index/core/output_parsers/pydantic.py:62\u001b[0m, in \u001b[0;36mPydanticOutputParser.parse\u001b[0;34m(self, text)\u001b[0m\n\u001b[1;32m     60\u001b[0m \u001b[38;5;250m\u001b[39m\u001b[38;5;124;03m\"\"\"Parse, validate, and correct errors programmatically.\"\"\"\u001b[39;00m\n\u001b[1;32m     61\u001b[0m json_str \u001b[38;5;241m=\u001b[39m extract_json_str(text)\n\u001b[0;32m---> 62\u001b[0m \u001b[38;5;28;01mreturn\u001b[39;00m \u001b[38;5;28;43mself\u001b[39;49m\u001b[38;5;241;43m.\u001b[39;49m\u001b[43m_output_cls\u001b[49m\u001b[38;5;241;43m.\u001b[39;49m\u001b[43mparse_raw\u001b[49m\u001b[43m(\u001b[49m\u001b[43mjson_str\u001b[49m\u001b[43m)\u001b[49m\n",
      "File \u001b[0;32m~/miniconda3/envs/autodm/lib/python3.11/site-packages/pydantic/main.py:1171\u001b[0m, in \u001b[0;36mBaseModel.parse_raw\u001b[0;34m(cls, b, content_type, encoding, proto, allow_pickle)\u001b[0m\n\u001b[1;32m   1164\u001b[0m     error: pydantic_core\u001b[38;5;241m.\u001b[39mInitErrorDetails \u001b[38;5;241m=\u001b[39m {\n\u001b[1;32m   1165\u001b[0m         \u001b[38;5;66;03m# The type: ignore on the next line is to ignore the requirement of LiteralString\u001b[39;00m\n\u001b[1;32m   1166\u001b[0m         \u001b[38;5;124m'\u001b[39m\u001b[38;5;124mtype\u001b[39m\u001b[38;5;124m'\u001b[39m: pydantic_core\u001b[38;5;241m.\u001b[39mPydanticCustomError(type_str, \u001b[38;5;28mstr\u001b[39m(exc)),  \u001b[38;5;66;03m# type: ignore\u001b[39;00m\n\u001b[1;32m   1167\u001b[0m         \u001b[38;5;124m'\u001b[39m\u001b[38;5;124mloc\u001b[39m\u001b[38;5;124m'\u001b[39m: (\u001b[38;5;124m'\u001b[39m\u001b[38;5;124m__root__\u001b[39m\u001b[38;5;124m'\u001b[39m,),\n\u001b[1;32m   1168\u001b[0m         \u001b[38;5;124m'\u001b[39m\u001b[38;5;124minput\u001b[39m\u001b[38;5;124m'\u001b[39m: b,\n\u001b[1;32m   1169\u001b[0m     }\n\u001b[1;32m   1170\u001b[0m     \u001b[38;5;28;01mraise\u001b[39;00m pydantic_core\u001b[38;5;241m.\u001b[39mValidationError\u001b[38;5;241m.\u001b[39mfrom_exception_data(\u001b[38;5;28mcls\u001b[39m\u001b[38;5;241m.\u001b[39m\u001b[38;5;18m__name__\u001b[39m, [error])\n\u001b[0;32m-> 1171\u001b[0m \u001b[38;5;28;01mreturn\u001b[39;00m \u001b[38;5;28;43mcls\u001b[39;49m\u001b[38;5;241;43m.\u001b[39;49m\u001b[43mmodel_validate\u001b[49m\u001b[43m(\u001b[49m\u001b[43mobj\u001b[49m\u001b[43m)\u001b[49m\n",
      "File \u001b[0;32m~/miniconda3/envs/autodm/lib/python3.11/site-packages/pydantic/main.py:551\u001b[0m, in \u001b[0;36mBaseModel.model_validate\u001b[0;34m(cls, obj, strict, from_attributes, context)\u001b[0m\n\u001b[1;32m    549\u001b[0m \u001b[38;5;66;03m# `__tracebackhide__` tells pytest and some other tools to omit this function from tracebacks\u001b[39;00m\n\u001b[1;32m    550\u001b[0m __tracebackhide__ \u001b[38;5;241m=\u001b[39m \u001b[38;5;28;01mTrue\u001b[39;00m\n\u001b[0;32m--> 551\u001b[0m \u001b[38;5;28;01mreturn\u001b[39;00m \u001b[38;5;28;43mcls\u001b[39;49m\u001b[38;5;241;43m.\u001b[39;49m\u001b[43m__pydantic_validator__\u001b[49m\u001b[38;5;241;43m.\u001b[39;49m\u001b[43mvalidate_python\u001b[49m\u001b[43m(\u001b[49m\n\u001b[1;32m    552\u001b[0m \u001b[43m    \u001b[49m\u001b[43mobj\u001b[49m\u001b[43m,\u001b[49m\u001b[43m \u001b[49m\u001b[43mstrict\u001b[49m\u001b[38;5;241;43m=\u001b[39;49m\u001b[43mstrict\u001b[49m\u001b[43m,\u001b[49m\u001b[43m \u001b[49m\u001b[43mfrom_attributes\u001b[49m\u001b[38;5;241;43m=\u001b[39;49m\u001b[43mfrom_attributes\u001b[49m\u001b[43m,\u001b[49m\u001b[43m \u001b[49m\u001b[43mcontext\u001b[49m\u001b[38;5;241;43m=\u001b[39;49m\u001b[43mcontext\u001b[49m\n\u001b[1;32m    553\u001b[0m \u001b[43m\u001b[49m\u001b[43m)\u001b[49m\n",
      "\u001b[0;31mValidationError\u001b[0m: 1 validation error for Storyline\ndetails\n  Field required [type=missing, input_value={'name': 'The Quest for t...dawns upon the land.'}]}, input_type=dict]\n    For further information visit https://errors.pydantic.dev/2.7/v/missing"
     ]
    }
   ],
   "source": [
    "program()"
   ]
  },
  {
   "cell_type": "code",
   "execution_count": 4,
   "metadata": {},
   "outputs": [],
   "source": [
    "from llama_index.core.program import LLMTextCompletionProgram\n",
    "from pydantic import BaseModel, Field\n",
    "from typing import Optional, List, Any"
   ]
  }
 ],
 "metadata": {
  "kernelspec": {
   "display_name": "autodm",
   "language": "python",
   "name": "python3"
  },
  "language_info": {
   "codemirror_mode": {
    "name": "ipython",
    "version": 3
   },
   "file_extension": ".py",
   "mimetype": "text/x-python",
   "name": "python",
   "nbconvert_exporter": "python",
   "pygments_lexer": "ipython3",
   "version": "3.11.9"
  }
 },
 "nbformat": 4,
 "nbformat_minor": 2
}
