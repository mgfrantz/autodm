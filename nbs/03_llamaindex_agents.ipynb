{
 "cells": [
  {
   "cell_type": "code",
   "execution_count": null,
   "metadata": {},
   "outputs": [],
   "source": [
    "%load_ext autoreload\n",
    "%autoreload 2"
   ]
  },
  {
   "cell_type": "code",
   "execution_count": null,
   "metadata": {},
   "outputs": [],
   "source": [
    "from autodm.llm import get_llm\n",
    "from autodm.roll import Dice, DiceType\n",
    "from autodm.character import Character\n",
    "from autodm.locaitons import Location, LocationStore, setup_new_locations\n",
    "from autodm.adventurelog import AdventureLog\n",
    "from autodm.storyline import StoryLineWithStoryItems\n",
    "\n",
    "from rich import print"
   ]
  },
  {
   "cell_type": "code",
   "execution_count": null,
   "metadata": {},
   "outputs": [],
   "source": [
    "from pydantic import BaseModel, Field\n",
    "from typing import Optional, List, Any, Union, Dict\n",
    "from pathlib import Path\n",
    "from datetime import datetime\n",
    "import matplotlib.pyplot as plt"
   ]
  },
  {
   "cell_type": "code",
   "execution_count": null,
   "metadata": {},
   "outputs": [],
   "source": [
    "character = Character.generate(level=0)\n",
    "print(character)"
   ]
  },
  {
   "cell_type": "code",
   "execution_count": null,
   "metadata": {},
   "outputs": [],
   "source": [
    "locations = setup_new_locations()\n",
    "print(locations)"
   ]
  },
  {
   "cell_type": "code",
   "execution_count": null,
   "metadata": {},
   "outputs": [],
   "source": [
    "city, region = locations.current, locations.get(locations.current.parent_name)"
   ]
  },
  {
   "cell_type": "code",
   "execution_count": null,
   "metadata": {},
   "outputs": [],
   "source": [
    "story = StoryLineWithStoryItems.generate(character, city, region, locations)"
   ]
  },
  {
   "cell_type": "code",
   "execution_count": null,
   "metadata": {},
   "outputs": [],
   "source": [
    "print(story)"
   ]
  },
  {
   "cell_type": "code",
   "execution_count": null,
   "metadata": {},
   "outputs": [],
   "source": [
    "building = city.generate_child(type='building', storyline=\"The adventurers enter the wizard's guild\")\n",
    "room1 = building.generate_child(storyline=\"The adventurers find and enter the wizard's library.\")\n",
    "room2 = building.generate_child(storyline=\"The adventurers find and enter thewizard's alchemy lab\")\n",
    "room3 = building.generate_child(storyline=\"The adventurers find and enter thewizard's training range\")"
   ]
  },
  {
   "cell_type": "code",
   "execution_count": null,
   "metadata": {},
   "outputs": [],
   "source": [
    "import networkx as nx\n",
    "from autodm.locaitons import LOCATION_TYPES"
   ]
  },
  {
   "cell_type": "code",
   "execution_count": null,
   "metadata": {},
   "outputs": [],
   "source": [
    "class LocationGraph:\n",
    "    def __init__(self):\n",
    "        self.graph = nx.Graph()\n",
    "\n",
    "    def set_current_location(self, location_name: str):\n",
    "        self.current_location = self[location_name]\n",
    "\n",
    "    def add_location(self, location: Location):\n",
    "        self.graph.add_node(location.name, **location.model_dump())\n",
    "        if location.parent_name:\n",
    "            self.graph.add_edge(location.parent_name, location.name)\n",
    "\n",
    "    def _node_to_location(self, node: Dict[str, Any]) -> Location:\n",
    "        return Location(**node)\n",
    "    \n",
    "    def _nodes_to_locations(self, nodes: List[Dict[str, Any]]) -> List[Location]:\n",
    "        return [self._node_to_location(node) for node in nodes]\n",
    "\n",
    "    def get_children(self, location_name: str):\n",
    "        nodes = list(self.graph.successors(location_name))\n",
    "        return self._nodes_to_locations(nodes)\n",
    "\n",
    "    def get_location(self, location_name: str) -> Optional[Dict[str, str]]:\n",
    "        if location_name in self.graph:\n",
    "            node = self.graph.nodes[location_name]\n",
    "            return self._node_to_location(node)\n",
    "        return None\n",
    "\n",
    "    def get_path(self, start_location: str, end_location: str):\n",
    "        try:\n",
    "            path = nx.shortest_path(self.graph, start_location, end_location)\n",
    "            return path\n",
    "        except nx.NetworkXNoPath:\n",
    "            return None\n",
    "        \n",
    "    def __getitem__(self, name):\n",
    "        return self._node_to_location(self.graph.nodes[name])\n",
    "    \n",
    "    def travel_plan(self, location_name: str) -> Union[str, List[Location]]:\n",
    "        if location_name not in self.graph:\n",
    "            return \"The location name is unknown. Try creating the location first, then try again.\"\n",
    "        paths = self.get_path(self.current_location.name, location_name)\n",
    "        return f\"To reach {location_name} from {paths[0]}, you must travel through the following locations: {','.join(paths[1:-1])}\"\n",
    "        \n",
    "    def visualize(self):\n",
    "        plt.figure(figsize=(10, 8))\n",
    "        pos = nx.spring_layout(self.graph)\n",
    "        nx.draw(self.graph, pos, with_labels=True, node_size=3000, node_color='skyblue', font_size=10, font_weight='bold')\n",
    "        node_labels = {node: \"\\n\\n\" + data['type'] for node, data in self.graph.nodes(data=True)}\n",
    "        nx.draw_networkx_labels(self.graph, pos, labels=node_labels, font_size=8, font_color='red')\n",
    "        plt.title('Location Graph')\n",
    "        plt.show()"
   ]
  },
  {
   "cell_type": "code",
   "execution_count": null,
   "metadata": {},
   "outputs": [],
   "source": [
    "locations=LocationGraph()\n",
    "locations.add_location(region)\n",
    "locations.add_location(city)\n",
    "locations.add_location(building)\n",
    "locations.add_location(room1)\n",
    "locations.add_location(room2)\n",
    "locations.add_location(room3)\n",
    "locations.set_current_location(room1.name)"
   ]
  },
  {
   "cell_type": "code",
   "execution_count": null,
   "metadata": {},
   "outputs": [],
   "source": [
    "locations.visualize()"
   ]
  },
  {
   "cell_type": "code",
   "execution_count": null,
   "metadata": {},
   "outputs": [],
   "source": [
    "locations.get_path(room3.name, room2.name)"
   ]
  },
  {
   "cell_type": "code",
   "execution_count": null,
   "metadata": {},
   "outputs": [],
   "source": [
    "locations.graph"
   ]
  },
  {
   "cell_type": "code",
   "execution_count": null,
   "metadata": {},
   "outputs": [],
   "source": []
  }
 ],
 "metadata": {
  "kernelspec": {
   "display_name": "autodm",
   "language": "python",
   "name": "python3"
  },
  "language_info": {
   "codemirror_mode": {
    "name": "ipython",
    "version": 3
   },
   "file_extension": ".py",
   "mimetype": "text/x-python",
   "name": "python",
   "nbconvert_exporter": "python",
   "pygments_lexer": "ipython3",
   "version": "3.11.9"
  }
 },
 "nbformat": 4,
 "nbformat_minor": 2
}
