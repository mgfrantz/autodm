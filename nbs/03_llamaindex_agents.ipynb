{
 "cells": [
  {
   "cell_type": "code",
   "execution_count": 1,
   "metadata": {},
   "outputs": [],
   "source": [
    "%load_ext autoreload\n",
    "%autoreload 2"
   ]
  },
  {
   "cell_type": "code",
   "execution_count": 2,
   "metadata": {},
   "outputs": [
    {
     "name": "stderr",
     "output_type": "stream",
     "text": [
      "/Users/michaelfrantz/miniconda3/envs/autodm/lib/python3.11/site-packages/tqdm/auto.py:21: TqdmWarning: IProgress not found. Please update jupyter and ipywidgets. See https://ipywidgets.readthedocs.io/en/stable/user_install.html\n",
      "  from .autonotebook import tqdm as notebook_tqdm\n"
     ]
    }
   ],
   "source": [
    "from autodm.llm import get_llm\n",
    "from autodm.roll import Dice, DiceType\n",
    "from autodm.character import Character\n",
    "from autodm.locaitons import Location, LocationStore, setup_new_locations\n",
    "from autodm.storyline import StoryLineWithStoryItems\n",
    "\n",
    "from rich import print"
   ]
  },
  {
   "cell_type": "code",
   "execution_count": 3,
   "metadata": {},
   "outputs": [],
   "source": [
    "from llama_index.core.program import LLMTextCompletionProgram\n",
    "from llama_index.vector_stores.lancedb import LanceDBVectorStore\n",
    "from llama_index.embeddings.huggingface import HuggingFaceEmbedding\n",
    "from datetime import datetime\n",
    "from llama_index.core import PromptTemplate, StorageContext, VectorStoreIndex, Document\n",
    "from llama_index.core.node_parser import SimpleNodeParser\n",
    "from pydantic import BaseModel, Field\n",
    "from typing import Optional, List, Any, Union\n",
    "from pathlib import Path\n",
    "import torch"
   ]
  },
  {
   "cell_type": "code",
   "execution_count": 4,
   "metadata": {},
   "outputs": [
    {
     "data": {
      "text/html": [
       "<pre style=\"white-space:pre;overflow-x:auto;line-height:normal;font-family:Menlo,'DejaVu Sans Mono',consolas,'Courier New',monospace\"><span style=\"color: #800080; text-decoration-color: #800080; font-weight: bold\">Character</span><span style=\"font-weight: bold\">(</span>\n",
       "    <span style=\"color: #808000; text-decoration-color: #808000\">chr_class</span>=<span style=\"color: #008000; text-decoration-color: #008000\">'wizard'</span>,\n",
       "    <span style=\"color: #808000; text-decoration-color: #808000\">chr_race</span>=<span style=\"color: #008000; text-decoration-color: #008000\">'human'</span>,\n",
       "    <span style=\"color: #808000; text-decoration-color: #808000\">name</span>=<span style=\"color: #008000; text-decoration-color: #008000\">'Alicia'</span>,\n",
       "    <span style=\"color: #808000; text-decoration-color: #808000\">attributes</span>=<span style=\"color: #800080; text-decoration-color: #800080; font-weight: bold\">Attributes</span><span style=\"font-weight: bold\">(</span><span style=\"color: #808000; text-decoration-color: #808000\">strength</span>=<span style=\"color: #008080; text-decoration-color: #008080; font-weight: bold\">8</span>, <span style=\"color: #808000; text-decoration-color: #808000\">dexterity</span>=<span style=\"color: #008080; text-decoration-color: #008080; font-weight: bold\">13</span>, <span style=\"color: #808000; text-decoration-color: #808000\">constitution</span>=<span style=\"color: #008080; text-decoration-color: #008080; font-weight: bold\">13</span>, <span style=\"color: #808000; text-decoration-color: #808000\">intelligence</span>=<span style=\"color: #008080; text-decoration-color: #008080; font-weight: bold\">5</span>, <span style=\"color: #808000; text-decoration-color: #808000\">wisdom</span>=<span style=\"color: #008080; text-decoration-color: #008080; font-weight: bold\">6</span>, <span style=\"color: #808000; text-decoration-color: #808000\">charisma</span>=<span style=\"color: #008080; text-decoration-color: #008080; font-weight: bold\">11</span><span style=\"font-weight: bold\">)</span>,\n",
       "    <span style=\"color: #808000; text-decoration-color: #808000\">level</span>=<span style=\"color: #008080; text-decoration-color: #008080; font-weight: bold\">0</span>,\n",
       "    <span style=\"color: #808000; text-decoration-color: #808000\">max_hp</span>=<span style=\"color: #008080; text-decoration-color: #008080; font-weight: bold\">23</span>,\n",
       "    <span style=\"color: #808000; text-decoration-color: #808000\">hp</span>=<span style=\"color: #008080; text-decoration-color: #008080; font-weight: bold\">23</span>,\n",
       "    <span style=\"color: #808000; text-decoration-color: #808000\">spells</span>=<span style=\"font-weight: bold\">[]</span>,\n",
       "    <span style=\"color: #808000; text-decoration-color: #808000\">equipment</span>=<span style=\"font-weight: bold\">[]</span>\n",
       "<span style=\"font-weight: bold\">)</span>\n",
       "</pre>\n"
      ],
      "text/plain": [
       "\u001b[1;35mCharacter\u001b[0m\u001b[1m(\u001b[0m\n",
       "    \u001b[33mchr_class\u001b[0m=\u001b[32m'wizard'\u001b[0m,\n",
       "    \u001b[33mchr_race\u001b[0m=\u001b[32m'human'\u001b[0m,\n",
       "    \u001b[33mname\u001b[0m=\u001b[32m'Alicia'\u001b[0m,\n",
       "    \u001b[33mattributes\u001b[0m=\u001b[1;35mAttributes\u001b[0m\u001b[1m(\u001b[0m\u001b[33mstrength\u001b[0m=\u001b[1;36m8\u001b[0m, \u001b[33mdexterity\u001b[0m=\u001b[1;36m13\u001b[0m, \u001b[33mconstitution\u001b[0m=\u001b[1;36m13\u001b[0m, \u001b[33mintelligence\u001b[0m=\u001b[1;36m5\u001b[0m, \u001b[33mwisdom\u001b[0m=\u001b[1;36m6\u001b[0m, \u001b[33mcharisma\u001b[0m=\u001b[1;36m11\u001b[0m\u001b[1m)\u001b[0m,\n",
       "    \u001b[33mlevel\u001b[0m=\u001b[1;36m0\u001b[0m,\n",
       "    \u001b[33mmax_hp\u001b[0m=\u001b[1;36m23\u001b[0m,\n",
       "    \u001b[33mhp\u001b[0m=\u001b[1;36m23\u001b[0m,\n",
       "    \u001b[33mspells\u001b[0m=\u001b[1m[\u001b[0m\u001b[1m]\u001b[0m,\n",
       "    \u001b[33mequipment\u001b[0m=\u001b[1m[\u001b[0m\u001b[1m]\u001b[0m\n",
       "\u001b[1m)\u001b[0m\n"
      ]
     },
     "metadata": {},
     "output_type": "display_data"
    }
   ],
   "source": [
    "character = Character.generate(level=0)\n",
    "print(character)"
   ]
  },
  {
   "cell_type": "code",
   "execution_count": 5,
   "metadata": {},
   "outputs": [
    {
     "data": {
      "text/html": [
       "<pre style=\"white-space:pre;overflow-x:auto;line-height:normal;font-family:Menlo,'DejaVu Sans Mono',consolas,'Courier New',monospace\"><span style=\"font-weight: bold\">{</span>\n",
       "    <span style=\"color: #008000; text-decoration-color: #008000\">'The Eastern Frontier'</span>: <span style=\"color: #800080; text-decoration-color: #800080; font-weight: bold\">Location</span><span style=\"font-weight: bold\">(</span>\n",
       "        <span style=\"color: #808000; text-decoration-color: #808000\">type</span>=<span style=\"color: #008000; text-decoration-color: #008000\">'region'</span>,\n",
       "        <span style=\"color: #808000; text-decoration-color: #808000\">name</span>=<span style=\"color: #008000; text-decoration-color: #008000\">'The Eastern Frontier'</span>,\n",
       "        <span style=\"color: #808000; text-decoration-color: #808000\">description</span>=<span style=\"color: #008000; text-decoration-color: #008000\">'A vast and untamed region filled with diverse landscapes, from dense forests to rugged </span>\n",
       "<span style=\"color: #008000; text-decoration-color: #008000\">mountains. This area is home to various tribes and settlements that have built their lives around the natural </span>\n",
       "<span style=\"color: #008000; text-decoration-color: #008000\">resources provided by the land.'</span>,\n",
       "        <span style=\"color: #808000; text-decoration-color: #808000\">parent_name</span>=<span style=\"color: #800080; text-decoration-color: #800080; font-style: italic\">None</span>,\n",
       "        <span style=\"color: #808000; text-decoration-color: #808000\">parent_description</span>=<span style=\"color: #800080; text-decoration-color: #800080; font-style: italic\">None</span>\n",
       "    <span style=\"font-weight: bold\">)</span>,\n",
       "    <span style=\"color: #008000; text-decoration-color: #008000\">'New Haven'</span>: <span style=\"color: #800080; text-decoration-color: #800080; font-weight: bold\">Location</span><span style=\"font-weight: bold\">(</span>\n",
       "        <span style=\"color: #808000; text-decoration-color: #808000\">type</span>=<span style=\"color: #008000; text-decoration-color: #008000\">'city'</span>,\n",
       "        <span style=\"color: #808000; text-decoration-color: #808000\">name</span>=<span style=\"color: #008000; text-decoration-color: #008000\">'New Haven'</span>,\n",
       "        <span style=\"color: #808000; text-decoration-color: #808000\">description</span>=<span style=\"color: #008000; text-decoration-color: #008000\">'A thriving settlement nestled in the heart of the Eastern Frontier, New Haven is known for its</span>\n",
       "<span style=\"color: #008000; text-decoration-color: #008000\">bustling markets and welcoming atmosphere. The city has grown around a natural spring that provides fresh water to </span>\n",
       "<span style=\"color: #008000; text-decoration-color: #008000\">both humans and animals alike.'</span>,\n",
       "        <span style=\"color: #808000; text-decoration-color: #808000\">parent_name</span>=<span style=\"color: #008000; text-decoration-color: #008000\">'The Eastern Frontier'</span>,\n",
       "        <span style=\"color: #808000; text-decoration-color: #808000\">parent_description</span>=<span style=\"color: #008000; text-decoration-color: #008000\">'A vast and untamed region filled with diverse landscapes, from dense forests to rugged </span>\n",
       "<span style=\"color: #008000; text-decoration-color: #008000\">mountains. This area is home to various tribes and settlements that have built their lives around the natural </span>\n",
       "<span style=\"color: #008000; text-decoration-color: #008000\">resources provided by the land.'</span>\n",
       "    <span style=\"font-weight: bold\">)</span>\n",
       "<span style=\"font-weight: bold\">}</span>\n",
       "</pre>\n"
      ],
      "text/plain": [
       "\u001b[1m{\u001b[0m\n",
       "    \u001b[32m'The Eastern Frontier'\u001b[0m: \u001b[1;35mLocation\u001b[0m\u001b[1m(\u001b[0m\n",
       "        \u001b[33mtype\u001b[0m=\u001b[32m'region'\u001b[0m,\n",
       "        \u001b[33mname\u001b[0m=\u001b[32m'The Eastern Frontier'\u001b[0m,\n",
       "        \u001b[33mdescription\u001b[0m=\u001b[32m'A vast and untamed region filled with diverse landscapes, from dense forests to rugged \u001b[0m\n",
       "\u001b[32mmountains. This area is home to various tribes and settlements that have built their lives around the natural \u001b[0m\n",
       "\u001b[32mresources provided by the land.'\u001b[0m,\n",
       "        \u001b[33mparent_name\u001b[0m=\u001b[3;35mNone\u001b[0m,\n",
       "        \u001b[33mparent_description\u001b[0m=\u001b[3;35mNone\u001b[0m\n",
       "    \u001b[1m)\u001b[0m,\n",
       "    \u001b[32m'New Haven'\u001b[0m: \u001b[1;35mLocation\u001b[0m\u001b[1m(\u001b[0m\n",
       "        \u001b[33mtype\u001b[0m=\u001b[32m'city'\u001b[0m,\n",
       "        \u001b[33mname\u001b[0m=\u001b[32m'New Haven'\u001b[0m,\n",
       "        \u001b[33mdescription\u001b[0m=\u001b[32m'A thriving settlement nestled in the heart of the Eastern Frontier, New Haven is known for its\u001b[0m\n",
       "\u001b[32mbustling markets and welcoming atmosphere. The city has grown around a natural spring that provides fresh water to \u001b[0m\n",
       "\u001b[32mboth humans and animals alike.'\u001b[0m,\n",
       "        \u001b[33mparent_name\u001b[0m=\u001b[32m'The Eastern Frontier'\u001b[0m,\n",
       "        \u001b[33mparent_description\u001b[0m=\u001b[32m'A vast and untamed region filled with diverse landscapes, from dense forests to rugged \u001b[0m\n",
       "\u001b[32mmountains. This area is home to various tribes and settlements that have built their lives around the natural \u001b[0m\n",
       "\u001b[32mresources provided by the land.'\u001b[0m\n",
       "    \u001b[1m)\u001b[0m\n",
       "\u001b[1m}\u001b[0m\n"
      ]
     },
     "metadata": {},
     "output_type": "display_data"
    }
   ],
   "source": [
    "locations = setup_new_locations()\n",
    "print(locations)"
   ]
  },
  {
   "cell_type": "code",
   "execution_count": 6,
   "metadata": {},
   "outputs": [],
   "source": [
    "city, region = locations.current, locations.get(locations.current.parent_name)"
   ]
  },
  {
   "cell_type": "code",
   "execution_count": 7,
   "metadata": {},
   "outputs": [],
   "source": [
    "story = StoryLineWithStoryItems.generate(character, city, region, locations)"
   ]
  },
  {
   "cell_type": "code",
   "execution_count": 8,
   "metadata": {},
   "outputs": [],
   "source": [
    "VECTORSTORE_DIR = Path('~').expanduser() / '.autodm/vectorstore'\n",
    "if not VECTORSTORE_DIR.exists():\n",
    "    VECTORSTORE_DIR.mkdir(parents=True)\n",
    "\n",
    "ADVENTURE_LOG_TABLE_NAME = 'adventure_log'"
   ]
  },
  {
   "cell_type": "code",
   "execution_count": 9,
   "metadata": {},
   "outputs": [],
   "source": [
    "adventure_log_vectorstore = LanceDBVectorStore(uri=str(VECTORSTORE_DIR), table_name=str(ADVENTURE_LOG_TABLE_NAME))\n",
    "storage_context = StorageContext.from_defaults(vector_store=adventure_log_vectorstore)\n"
   ]
  },
  {
   "cell_type": "code",
   "execution_count": 10,
   "metadata": {},
   "outputs": [],
   "source": [
    "def get_device():\n",
    "    if torch.backends.mps.is_available():\n",
    "        return 'mps'\n",
    "    elif torch.cuda.is_available():\n",
    "        return 'cuda'\n",
    "    else:\n",
    "        return 'cpu'"
   ]
  },
  {
   "cell_type": "code",
   "execution_count": 30,
   "metadata": {},
   "outputs": [],
   "source": [
    "class AdventureLog:\n",
    "    def __init__(self, lance_uri=VECTORSTORE_DIR, lance_table=ADVENTURE_LOG_TABLE_NAME):\n",
    "        self.lance_uri = lance_uri\n",
    "        self.lance_table = lance_table\n",
    "        self.storage_context = self._setup_storage_context()\n",
    "        try:\n",
    "            self.index = self._setup_index()\n",
    "        except Exception as e:\n",
    "            self.index = None\n",
    "            print(\"Failed to set up index. Will try again on first log.\", e)\n",
    "\n",
    "    def _setup_storage_context(self):\n",
    "        return StorageContext.from_defaults(\n",
    "            vector_store=LanceDBVectorStore(\n",
    "                uri=str(self.lance_uri), table_name=str(self.lance_table)\n",
    "            )\n",
    "        )\n",
    "\n",
    "    def _setup_index(self, doc_or_docs: Union[Document, List[Document]] = None):\n",
    "        embed_model = HuggingFaceEmbedding(\n",
    "            \"Alibaba-NLP/gte-base-en-v1.5\", device=get_device(), trust_remote_code=True\n",
    "        )\n",
    "        if doc_or_docs is not None:\n",
    "            if not isinstance(doc_or_docs, list):\n",
    "                doc_or_docs = [doc_or_docs]\n",
    "            return VectorStoreIndex.from_documents(\n",
    "                doc_or_docs,\n",
    "                embed_model=embed_model,\n",
    "                # storage_context=self.storage_context,\n",
    "            )\n",
    "        else:\n",
    "            return VectorStoreIndex(\n",
    "                embed_model=embed_model, \n",
    "                # storage_context=self.storage_context\n",
    "            )\n",
    "\n",
    "    def add_entry(self, entry: str, user: str = \"dm\"):\n",
    "        doc = Document(\n",
    "            text=entry, extra_info={\"user\": user, \"timestamp\": str(datetime.now())}\n",
    "        )\n",
    "        if self.index is None:\n",
    "            self.index = self._setup_index(doc)\n",
    "        else:\n",
    "            self.index.insert(doc)\n",
    "\n",
    "    def search(self, query: str, top_k: int = 5):\n",
    "        query_engine = self.index.as_query_engine(llm=get_llm(output_cls=str), similarity_top_k=top_k)\n",
    "        return query_engine.query(query)"
   ]
  },
  {
   "cell_type": "code",
   "execution_count": 31,
   "metadata": {},
   "outputs": [
    {
     "name": "stderr",
     "output_type": "stream",
     "text": [
      "/Users/michaelfrantz/miniconda3/envs/autodm/lib/python3.11/site-packages/huggingface_hub/file_download.py:1132: FutureWarning: `resume_download` is deprecated and will be removed in version 1.0.0. Downloads always resume when possible. If you want to force a new download, use `force_download=True`.\n",
      "  warnings.warn(\n"
     ]
    },
    {
     "data": {
      "text/html": [
       "<pre style=\"white-space:pre;overflow-x:auto;line-height:normal;font-family:Menlo,'DejaVu Sans Mono',consolas,'Courier New',monospace\">Failed to set up index. Will try again on first log. One of nodes, objects, or index_struct must be provided.\n",
       "</pre>\n"
      ],
      "text/plain": [
       "Failed to set up index. Will try again on first log. One of nodes, objects, or index_struct must be provided.\n"
      ]
     },
     "metadata": {},
     "output_type": "display_data"
    }
   ],
   "source": [
    "log = AdventureLog()"
   ]
  },
  {
   "cell_type": "code",
   "execution_count": 32,
   "metadata": {},
   "outputs": [],
   "source": [
    "log.add_entry(\"The party enters the tavern.\")"
   ]
  },
  {
   "cell_type": "code",
   "execution_count": 33,
   "metadata": {},
   "outputs": [
    {
     "data": {
      "text/plain": [
       "Response(response='We are in a tavern.', source_nodes=[NodeWithScore(node=TextNode(id_='5ae36046-7ff8-4101-9518-2e629dd4196b', embedding=None, metadata={'user': 'dm', 'timestamp': '2024-06-01 18:28:03.559902'}, excluded_embed_metadata_keys=[], excluded_llm_metadata_keys=[], relationships={<NodeRelationship.SOURCE: '1'>: RelatedNodeInfo(node_id='c9c46eba-6350-490d-81ed-c831e37f6c89', node_type=<ObjectType.DOCUMENT: '4'>, metadata={'user': 'dm', 'timestamp': '2024-06-01 18:28:03.559902'}, hash='27871af6a7247ce2b75e65cb76928094ad0969b1258c4ebeec2de3547f411d7d')}, text='The party enters the tavern.', start_char_idx=0, end_char_idx=28, text_template='{metadata_str}\\n\\n{content}', metadata_template='{key}: {value}', metadata_seperator='\\n'), score=0.28967875150610123)], metadata={'5ae36046-7ff8-4101-9518-2e629dd4196b': {'user': 'dm', 'timestamp': '2024-06-01 18:28:03.559902'}})"
      ]
     },
     "execution_count": 33,
     "metadata": {},
     "output_type": "execute_result"
    }
   ],
   "source": [
    "log.search(\"Where are we?\")"
   ]
  }
 ],
 "metadata": {
  "kernelspec": {
   "display_name": "autodm",
   "language": "python",
   "name": "python3"
  },
  "language_info": {
   "codemirror_mode": {
    "name": "ipython",
    "version": 3
   },
   "file_extension": ".py",
   "mimetype": "text/x-python",
   "name": "python",
   "nbconvert_exporter": "python",
   "pygments_lexer": "ipython3",
   "version": "3.11.9"
  }
 },
 "nbformat": 4,
 "nbformat_minor": 2
}
