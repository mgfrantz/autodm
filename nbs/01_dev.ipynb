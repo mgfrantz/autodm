{
 "cells": [
  {
   "cell_type": "code",
   "execution_count": 1,
   "metadata": {},
   "outputs": [],
   "source": [
    "%load_ext autoreload\n",
    "%autoreload 2"
   ]
  },
  {
   "cell_type": "code",
   "execution_count": 2,
   "metadata": {},
   "outputs": [],
   "source": [
    "from autodm.llm import get_llm\n",
    "from autodm.roll import Dice, DiceType\n",
    "from autodm.character import Character"
   ]
  },
  {
   "cell_type": "code",
   "execution_count": 3,
   "metadata": {},
   "outputs": [],
   "source": [
    "character = Character.generate(level=0)"
   ]
  },
  {
   "cell_type": "code",
   "execution_count": 23,
   "metadata": {},
   "outputs": [],
   "source": [
    "from llama_index.core.program import LLMTextCompletionProgram\n",
    "from pydantic import BaseModel, Field\n",
    "from typing import Optional, List, Any"
   ]
  },
  {
   "cell_type": "code",
   "execution_count": 5,
   "metadata": {},
   "outputs": [],
   "source": [
    "LOCATION_TYPES = [\n",
    "    \"region\",\n",
    "    \"city\",\n",
    "    \"road\",\n",
    "    \"dungeon\",\n",
    "    \"wilderness\",\n",
    "    \"building\",\n",
    "    \"room\",\n",
    "]"
   ]
  },
  {
   "cell_type": "code",
   "execution_count": 48,
   "metadata": {},
   "outputs": [],
   "source": [
    "class Location(BaseModel):\n",
    "    type: str = Field(..., title=\"The type of the location\", description=f\"The type of the location, one of {', '.join(LOCATION_TYPES)}\")\n",
    "    name: str = Field(..., title=\"The name of the location\", description=\"The name of the location\")\n",
    "    description: str = Field(..., title=\"The description of the location\", description=\"A description of the location.\")\n",
    "    parent: Optional[Location] = Field(None, title=\"The parent location\", description=\"The name of the parent location of this location.\")\n",
    "    children: Optional[List[Location]] = Field([], title=\"The children locations\", description=\"The names of the children locations of this location.\")\n",
    "\n",
    "    def __str__(self):\n",
    "        return self.name\n",
    "    \n",
    "    def __repr__(self):\n",
    "        return f\"Location(name={self.name}, type={self.type}, description={self.description}, parent={self.parent}, children={self.children})\"\n",
    "    \n",
    "    @classmethod\n",
    "    def generate(self, **kwargs):\n",
    "        if 'parent' not in kwargs:\n",
    "            kwargs['type'] = 'region'\n",
    "        kwgs = \"\\n\".join([f\"{k}: {v}\" for k, v in kwargs.items()])\n",
    "        prompt = f\"\"\"Please create a location for a D&D campaign. \\\n",
    "If a parent is passed, please make sure the properties align with the parent location. \\\n",
    "Do not create a child location that is larger than the parent. For example, a building cannot be the child of a room, unless there are alternate dimensions involved. \\\n",
    "The location should have the following properties: \n",
    "    {kwgs}\"\"\"\n",
    "        \n",
    "        program = LLMTextCompletionProgram.from_defaults(prompt_template_str=prompt, output_cls=Location, llm=get_llm())\n",
    "        return program()\n",
    "    \n",
    "    def generate_child(self):\n",
    "        child = Location.generate(parent=self)\n",
    "        self.children.append(child)\n",
    "        "
   ]
  },
  {
   "cell_type": "code",
   "execution_count": 36,
   "metadata": {},
   "outputs": [],
   "source": [
    "l = Location.generate(type='region')"
   ]
  },
  {
   "cell_type": "code",
   "execution_count": 47,
   "metadata": {},
   "outputs": [
    {
     "data": {
      "text/plain": [
       "Location(name=The Great Forest, type=region, description=A vast and ancient forest covering most of the eastern part of the realm, home to numerous creatures and magical beings., parent=None, children=[Location(name=Elvendale, type=city, description=An elven city nestled deep within the heart of the Great Forest, known for its beautiful architecture and advanced magic., parent=None, children=[]), Location(name=The Darkwoods, type=wilderness, description=A mysterious and dangerous area located in the northern part of the Great Forest, plagued by dark creatures and curses., parent=None, children=[])])"
      ]
     },
     "execution_count": 47,
     "metadata": {},
     "output_type": "execute_result"
    }
   ],
   "source": [
    "l.children[0]"
   ]
  },
  {
   "cell_type": "code",
   "execution_count": 39,
   "metadata": {},
   "outputs": [],
   "source": [
    "c = l.generate_child()"
   ]
  },
  {
   "cell_type": "code",
   "execution_count": 43,
   "metadata": {},
   "outputs": [
    {
     "data": {
      "text/plain": [
       "Location(name=Elvendale, type=city, description=An elven city nestled deep within the heart of the Great Forest, known for its beautiful architecture and advanced magic., parent=None, children=[])"
      ]
     },
     "execution_count": 43,
     "metadata": {},
     "output_type": "execute_result"
    }
   ],
   "source": [
    "c.children[0]"
   ]
  },
  {
   "cell_type": "code",
   "execution_count": null,
   "metadata": {},
   "outputs": [],
   "source": []
  }
 ],
 "metadata": {
  "kernelspec": {
   "display_name": "autodm",
   "language": "python",
   "name": "python3"
  },
  "language_info": {
   "codemirror_mode": {
    "name": "ipython",
    "version": 3
   },
   "file_extension": ".py",
   "mimetype": "text/x-python",
   "name": "python",
   "nbconvert_exporter": "python",
   "pygments_lexer": "ipython3",
   "version": "3.9.19"
  }
 },
 "nbformat": 4,
 "nbformat_minor": 2
}
