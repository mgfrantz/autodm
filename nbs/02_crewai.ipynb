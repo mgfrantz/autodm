{
 "cells": [
  {
   "cell_type": "code",
   "execution_count": null,
   "metadata": {},
   "outputs": [],
   "source": [
    "%load_ext autoreload\n",
    "%autoreload 2"
   ]
  },
  {
   "cell_type": "code",
   "execution_count": null,
   "metadata": {},
   "outputs": [],
   "source": [
    "import os\n",
    "os.environ[\"OPENAI_API_BASE\"]=\"http://localhost:1234/v1\"\n",
    "os.environ[\"OPENAI_API_KEY\"]=\"lm-studio\""
   ]
  },
  {
   "cell_type": "code",
   "execution_count": null,
   "metadata": {},
   "outputs": [],
   "source": [
    "from autodm.roll import Dice, DiceType\n",
    "from autodm.character import Character\n",
    "from autodm.locaitons import Location, LocationStore\n",
    "from rich import print"
   ]
  },
  {
   "cell_type": "code",
   "execution_count": null,
   "metadata": {},
   "outputs": [],
   "source": [
    "from crewai import Agent, Task, Crew, Process\n",
    "from crewai_tools import tool\n",
    "from typing import List"
   ]
  },
  {
   "cell_type": "code",
   "execution_count": null,
   "metadata": {},
   "outputs": [],
   "source": [
    "character = Character.generate(level=0)"
   ]
  },
  {
   "cell_type": "code",
   "execution_count": null,
   "metadata": {},
   "outputs": [],
   "source": [
    "character"
   ]
  },
  {
   "cell_type": "code",
   "execution_count": null,
   "metadata": {},
   "outputs": [],
   "source": [
    "region = Location.generate()\n",
    "locations = LocationStore(current=region, **{region.name: region})"
   ]
  },
  {
   "cell_type": "code",
   "execution_count": null,
   "metadata": {},
   "outputs": [],
   "source": [
    "locations"
   ]
  },
  {
   "cell_type": "code",
   "execution_count": null,
   "metadata": {},
   "outputs": [],
   "source": [
    "city = locations.current.generate_child(type='city')"
   ]
  },
  {
   "cell_type": "code",
   "execution_count": null,
   "metadata": {},
   "outputs": [],
   "source": [
    "city"
   ]
  },
  {
   "cell_type": "code",
   "execution_count": null,
   "metadata": {},
   "outputs": [],
   "source": [
    "locations.add(city)\n",
    "locations.set_current(city)"
   ]
  },
  {
   "cell_type": "code",
   "execution_count": null,
   "metadata": {},
   "outputs": [],
   "source": [
    "@tool\n",
    "def get_current_location():\n",
    "    \"\"\"\\\n",
    "Useful when you want to know the where you are. Returns the current location. \n",
    "\n",
    "Returns:\n",
    "    Location: The current location.\n",
    "\"\"\"\n",
    "    return locations.current\n",
    "\n",
    "@tool\n",
    "def get_child_locations():\n",
    "    \"\"\"Useful for when you want to know child locations that exist. \\\n",
    "For example, the rooms in a building or the buildings in a city.\n",
    "\n",
    "Returns:\n",
    "    List[Location]: A list of child locations.\n",
    "\"\"\"\n",
    "    return locations.get_children(location=locations.current)\n",
    "\n",
    "@tool\n",
    "def get_parent_location():\n",
    "    \"\"\"\\\n",
    "Useful for when you want to know parent location of the current location.\n",
    "\n",
    "Returns:\n",
    "    Location: The parent location.\n",
    "\"\"\"\n",
    "    return locations.get_parents(location=locations.current)\n",
    "\n",
    "@tool\n",
    "def create_child_location(storyline:str=None):\n",
    "    \"\"\"\\\n",
    "Useful for when you want to create a new location that is a child of the current location. \n",
    "Use this when you want to create a city within a region, room within a building, etc. \n",
    "\n",
    "Args:\n",
    "    storyline (str, optional): A summary of the story elements that help guide the location generation. For example, \"You enter a cellar that is dark and damp.\"\n",
    "\n",
    "Returns:\n",
    "    Location: The new location that was created.\n",
    "\"\"\"\n",
    "    new_location = locations.current.generate_child(storyline)\n",
    "    locations.add(new_location)\n",
    "    return new_location\n",
    "\n",
    "@tool\n",
    "def create_location(location_name:str, storyline:str=None):\n",
    "    \"\"\"\\\n",
    "Useful for when you want to create a new location that is not a child of the current location. \\\n",
    "Returns the new location, but does not travel there.\n",
    "\n",
    "Args:\n",
    "    location_name (str): The name of the location.\n",
    "    storyline (str, optional): A summary of the story elements that help guide the location generation. For example, \"As you leave the village, you find a mysterious cellar.\"\n",
    "\n",
    "Returns:\n",
    "    Location: The new location that was created.\n",
    "\"\"\"\n",
    "    new_location = Location.generate(name=location_name, storyline=storyline)\n",
    "    locations.add(new_location)\n",
    "    return new_location\n",
    "\n",
    "@tool\n",
    "def list_locations():\n",
    "    \"\"\"Useful for when you want to see all locations that exist. \n",
    "\n",
    "Returns:\n",
    "    List[str]: A list of all locations.\n",
    "\"\"\"\n",
    "    return list(locations.keys())\n",
    "\n",
    "\n",
    "@tool\n",
    "def travel_to(location_name:str):\n",
    "    \"\"\"\\\n",
    "Useful for when you want to travel to a location.\n",
    "\n",
    "Args:\n",
    "    location_name (str): The name of the location you want to travel to.\n",
    "    \n",
    "Returns:\n",
    "    Location: The location you traveled to.\n",
    "\"\"\"\n",
    "    if location_name not in locations.keys():\n",
    "        return \"Location is not found, please create the desired location.\"\n",
    "    locations.set_current(location)\n",
    "    return location"
   ]
  },
  {
   "cell_type": "code",
   "execution_count": null,
   "metadata": {},
   "outputs": [],
   "source": [
    "location_manager = Agent(\n",
    "    role=\"Navigator\",\n",
    "    goal=\"Keep track of and manage new locations based on a D&D storyline.\",\n",
    "    backstory=\"\"\"\\\n",
    "Driven by a sense of wonder and adventure, \\\n",
    "you are eager to create engaging locaitons based on a D&D story. \\\n",
    "You are a master of location generation and management, \\\n",
    "and you are always ready to create new locations and travel to them. \\\n",
    "\"\"\",\n",
    "    tools=[\n",
    "        get_current_location,\n",
    "        get_child_locations,\n",
    "        get_parent_location,\n",
    "        create_child_location,\n",
    "        create_location,\n",
    "        list_locations,\n",
    "        travel_to\n",
    "    ]\n",
    ")"
   ]
  },
  {
   "cell_type": "code",
   "execution_count": null,
   "metadata": {},
   "outputs": [],
   "source": [
    "location_mange"
   ]
  }
 ],
 "metadata": {
  "kernelspec": {
   "display_name": "autodm",
   "language": "python",
   "name": "python3"
  },
  "language_info": {
   "codemirror_mode": {
    "name": "ipython",
    "version": 3
   },
   "file_extension": ".py",
   "mimetype": "text/x-python",
   "name": "python",
   "nbconvert_exporter": "python",
   "pygments_lexer": "ipython3",
   "version": "3.9.19"
  }
 },
 "nbformat": 4,
 "nbformat_minor": 2
}
