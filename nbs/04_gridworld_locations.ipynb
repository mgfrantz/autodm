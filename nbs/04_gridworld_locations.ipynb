{
 "cells": [
  {
   "cell_type": "code",
   "execution_count": null,
   "metadata": {},
   "outputs": [],
   "source": [
    "import numpy as np\n",
    "import random\n",
    "from random import shuffle\n",
    "from autodm.llm import get_llm\n",
    "from scipy.spatial.distance import minkowski\n",
    "\n",
    "from pydantic import BaseModel, Field\n",
    "from typing import Union, Literal, Optional, Any, List, Tuple\n",
    "from rich import print\n",
    "import matplotlib.pyplot as plt"
   ]
  },
  {
   "cell_type": "code",
   "execution_count": null,
   "metadata": {},
   "outputs": [],
   "source": [
    "width = 30\n",
    "height = 30"
   ]
  },
  {
   "cell_type": "code",
   "execution_count": null,
   "metadata": {},
   "outputs": [],
   "source": [
    "grid = np.zeros((width, height), dtype=int)"
   ]
  },
  {
   "cell_type": "code",
   "execution_count": null,
   "metadata": {},
   "outputs": [],
   "source": [
    "def random_edge_points(width, height, n_points=2):\n",
    "    \"\"\"\n",
    "    Generate random points on the edges of a gridworld.\n",
    "\n",
    "    Parameters:\n",
    "    - width (int): The width of the gridworld.\n",
    "    - height (int): The height of the gridworld.\n",
    "    - n_points (int): The number of random points to generate. Default is 2.\n",
    "\n",
    "    Returns:\n",
    "    - list: A list of randomly generated points on the edges of the gridworld.\n",
    "    \"\"\"\n",
    "\n",
    "    left_edge = (0, np.random.randint(0, height-1))\n",
    "    bottom_edge = (np.random.randint(0, width-1), 0)\n",
    "    right_edge = (width-1, np.random.randint(0, height-1))\n",
    "    top_edge = (np.random.randint(0, width-1), height-1)\n",
    "    l = [left_edge, bottom_edge, right_edge, top_edge]\n",
    "    shuffle(l)\n",
    "    return l[:n_points]\n",
    "\n"
   ]
  },
  {
   "cell_type": "code",
   "execution_count": null,
   "metadata": {},
   "outputs": [],
   "source": [
    "p1, p2 = random_edge_points(width, height)"
   ]
  },
  {
   "cell_type": "code",
   "execution_count": null,
   "metadata": {},
   "outputs": [],
   "source": [
    "p1, p2"
   ]
  },
  {
   "cell_type": "code",
   "execution_count": null,
   "metadata": {},
   "outputs": [],
   "source": [
    "def distance(p1, p2, p=2):\n",
    "    return minkowski(p1, p2, p=p)"
   ]
  },
  {
   "cell_type": "code",
   "execution_count": null,
   "metadata": {},
   "outputs": [],
   "source": [
    "class PathWalker():\n",
    "    def __init__(self, grid, p1=None, p2=None, p=2, target_distance_per_step=0.6):\n",
    "        self.grid = grid\n",
    "        if p1 is None or p2 is None:\n",
    "            p1, p2 = random_edge_points(width, height)\n",
    "        self.p1 = p1\n",
    "        self.p2 = p2\n",
    "        self.p = p\n",
    "        self.path = []\n",
    "        self.target_distance_per_step = target_distance_per_step\n",
    "\n",
    "    def _distance(self, x, y):\n",
    "        return distance((x, y), self.p2, p=self.p)\n",
    "    \n",
    "    def walk(self, fill_value=1):\n",
    "        # Reset the path\n",
    "        self.path = []\n",
    "        # Set the start x, y to point 1\n",
    "        x, y = p1\n",
    "        self.path.append((x, y))\n",
    "        current_num_steps = 0\n",
    "        target_num_steps = np.ceil(distance(p1, p2) / self.target_distance_per_step)\n",
    "        while(current_distance:=self._distance(x, y) > 1):\n",
    "            # Let's sample from a binomial distribution to decide whether we should decrease or increaes distance.\n",
    "            # distance represents the smallest number of steps\n",
    "            # If the current number of steps is less than the target number of steps, we raise the likelihood of increasing the distance\n",
    "            # If the current number of steps is greater than the target number of steps, we decrease thelikelihood of increasing the distance\n",
    "            prob_should_decrease_distance = HELP ME FIGURE THIS OUT\n",
    "            print(prob_should_decrease_distance)\n",
    "            should_decase_distance = np.random.binomial(1, prob_should_decrease_distance)\n",
    "            if should_decase_distance:\n",
    "                # Decrease distance\n",
    "                x, y = self._decrease_distance(x, y)\n",
    "            else:\n",
    "                # Increase distance\n",
    "                x, y = self._increase_distance(x, y)\n",
    "            self.path.append((x, y))\n",
    "            current_num_steps += 1\n",
    "        return self.path\n",
    "        \n",
    "        \n",
    "    def _adjacent_cells(self, x, y):\n",
    "        # Find the adjacent cells to the current cell\n",
    "        adjacent_cells = []\n",
    "        if x > 0:\n",
    "            adjacent_cells.append((x-1, y))\n",
    "        if x < width-1:\n",
    "            adjacent_cells.append((x+1, y))\n",
    "        if y > 0:\n",
    "            adjacent_cells.append((x, y-1))\n",
    "        if x < height-1:\n",
    "            adjacent_cells.append((x, y+1))\n",
    "        return adjacent_cells\n",
    "    \n",
    "    def _decrease_distance(self, x, y):\n",
    "        # Find the adjacent cells to the current cell\n",
    "        adjacent_cells = self._adjacent_cells(x, y)\n",
    "        # Find the cells that decrease the distance to the target\n",
    "        distances = [self._distance(x, y) for x, y in adjacent_cells]\n",
    "        idx = np.argmin(distances)\n",
    "        return adjacent_cells[idx]\n",
    "    \n",
    "    def _increase_distance(self, x, y):\n",
    "        # Find the adjacent cells to the current cell\n",
    "        adjacent_cells = self._adjacent_cells(x, y)\n",
    "        # Find the cells that increase the distance to the target\n",
    "        distances = [self._distance(x, y) for x, y in adjacent_cells]\n",
    "        available_choices = [point for point, distance in zip(adjacent_cells, distances) if distance > self._distance(x, y)]\n",
    "        idx = np.random.choice(len(available_choices))\n",
    "        return available_choices[idx]\n",
    "    \n",
    "    def add_to_grid(self, path):\n",
    "        for x, y in path:\n",
    "            self.grid[x, y] = 1\n",
    "        return self.grid"
   ]
  },
  {
   "cell_type": "code",
   "execution_count": null,
   "metadata": {},
   "outputs": [],
   "source": [
    "class PathWalker:\n",
    "    def __init__(self, grid, p1=None, p2=None, p=2, target_distance_per_step=0.6):\n",
    "        self.grid = grid\n",
    "        self.width = grid.shape[1]\n",
    "        self.height = grid.shape[0]\n",
    "        if p1 is None or p2 is None:\n",
    "            p1, p2 = random_edge_points(self.width, self.height)\n",
    "        self.p1 = p1\n",
    "        self.p2 = p2\n",
    "        self.p = p\n",
    "        self.path = []\n",
    "        self.target_distance_per_step = target_distance_per_step\n",
    "\n",
    "    def _distance(self, x, y):\n",
    "        return distance((x, y), self.p2, p=self.p)\n",
    "    \n",
    "    def walk(self, fill_value=1):\n",
    "        # Reset the path\n",
    "        self.path = []\n",
    "        # Set the start x, y to point 1\n",
    "        x, y = self.p1\n",
    "        self.path.append((x, y))\n",
    "        current_num_steps = 0\n",
    "        target_num_steps = np.ceil(distance(self.p1, self.p2, p=self.p) / self.target_distance_per_step)\n",
    "        while (current_distance := self._distance(x, y)) > 1:\n",
    "            # Calculate probability to decrease distance\n",
    "            prob_should_decrease_distance = max(0, min(1, (target_num_steps - current_num_steps) / target_num_steps))\n",
    "            print(f\"Probability to decrease distance: {prob_should_decrease_distance}\")\n",
    "            should_decrease_distance = np.random.binomial(1, prob_should_decrease_distance)\n",
    "            if should_decrease_distance:\n",
    "                # Decrease distance\n",
    "                x, y = self._decrease_distance(x, y)\n",
    "            else:\n",
    "                # Increase distance\n",
    "                x, y = self._increase_distance(x, y)\n",
    "            self.path.append((x, y))\n",
    "            current_num_steps += 1\n",
    "        return self.path\n",
    "        \n",
    "    def _adjacent_cells(self, x, y):\n",
    "        # Find the adjacent cells to the current cell\n",
    "        adjacent_cells = []\n",
    "        if x > 0:\n",
    "            adjacent_cells.append((x-1, y))\n",
    "        if x < self.width-1:\n",
    "            adjacent_cells.append((x+1, y))\n",
    "        if y > 0:\n",
    "            adjacent_cells.append((x, y-1))\n",
    "        if y < self.height-1:\n",
    "            adjacent_cells.append((x, y+1))\n",
    "        return adjacent_cells\n",
    "    \n",
    "    def _decrease_distance(self, x, y):\n",
    "        # Find the adjacent cells to the current cell\n",
    "        adjacent_cells = self._adjacent_cells(x, y)\n",
    "        # Find the cells that decrease the distance to the target\n",
    "        distances = [self._distance(cx, cy) for cx, cy in adjacent_cells]\n",
    "        idx = np.argmin(distances)\n",
    "        return adjacent_cells[idx]\n",
    "    \n",
    "    def _increase_distance(self, x, y):\n",
    "        # Find the adjacent cells to the current cell\n",
    "        adjacent_cells = self._adjacent_cells(x, y)\n",
    "        # Find the cells that increase the distance to the target\n",
    "        distances = [self._distance(cx, cy) for cx, cy in adjacent_cells]\n",
    "        available_choices = [point for point, distance in zip(adjacent_cells, distances) if distance > self._distance(x, y)]\n",
    "        if available_choices:\n",
    "            idx = np.random.choice(len(available_choices))\n",
    "            return available_choices[idx]\n",
    "        else:\n",
    "            return random.choice(adjacent_cells)  # Fallback to any adjacent cell if no increase is possible\n",
    "    \n",
    "    def add_to_grid(self, path):\n",
    "        for x, y in path:\n",
    "            self.grid[x, y] = 1\n",
    "        return self.grid"
   ]
  },
  {
   "cell_type": "code",
   "execution_count": null,
   "metadata": {},
   "outputs": [],
   "source": [
    "walker = PathWalker(grid)"
   ]
  },
  {
   "cell_type": "code",
   "execution_count": null,
   "metadata": {},
   "outputs": [],
   "source": [
    "walker.path"
   ]
  },
  {
   "cell_type": "code",
   "execution_count": null,
   "metadata": {},
   "outputs": [],
   "source": [
    "points = walker.walk()"
   ]
  },
  {
   "cell_type": "code",
   "execution_count": null,
   "metadata": {},
   "outputs": [],
   "source": [
    "walker.grid"
   ]
  },
  {
   "cell_type": "code",
   "execution_count": null,
   "metadata": {},
   "outputs": [],
   "source": [
    "from llama_index.core.program import LLMTextCompletionProgram"
   ]
  },
  {
   "cell_type": "code",
   "execution_count": null,
   "metadata": {},
   "outputs": [],
   "source": [
    "llm = get_llm()"
   ]
  },
  {
   "cell_type": "code",
   "execution_count": null,
   "metadata": {},
   "outputs": [],
   "source": [
    "scales = Literal['miles', 'feet']"
   ]
  },
  {
   "cell_type": "code",
   "execution_count": null,
   "metadata": {},
   "outputs": [],
   "source": [
    "scales = Literal['miles', 'feet']\n",
    "\n",
    "class GridWorld(BaseModel):\n",
    "    width:int = Field(50, description=\"Width of the grid\", ge=1)\n",
    "    height:int = Field(50, description=\"Height of the grid\", ge=1)\n",
    "    scale:int = Field(1, description=\"Number of units \", ge=1)\n",
    "    scale_unit: scales = Field('miles', description=\"Unit of the scale\")\n",
    "    grid: Optional[Any] = Field(None, description=\"Grid of the world\")\n",
    "\n",
    "    def model_post_init(self, __context: Any) -> None:\n",
    "        self.grid = np.zeros((self.height, self.width), dtype=int)\n",
    "\n",
    "    def show(self):\n",
    "        plt.imshow(self.grid, cmap='hot')\n",
    "\n",
    "    def __str__(self):\n",
    "        s = \"\"\n",
    "        for i in world.grid:\n",
    "            s += str(i.tolist())\n",
    "            s += '\\n'\n",
    "        return s\n",
    "    def __repr__(self):\n",
    "        return self.__str__()"
   ]
  },
  {
   "cell_type": "code",
   "execution_count": null,
   "metadata": {},
   "outputs": [],
   "source": [
    "REGIONAL_GRID_VALUES = {\n",
    "    0: \"wilderness\",\n",
    "    1: \"city/town\",\n",
    "    2: \"road\",\n",
    "    3: \"water\",\n",
    "    4: \"foothills\",\n",
    "    5: \"mountain\",\n",
    "}\n",
    "\n",
    "class MapItem(BaseModel):\n",
    "    xs: List[int]\n",
    "    ys: List[int]\n",
    "    value: int = Field(0, description=\"Value to be added to the grid\")\n",
    "\n",
    "    def add_to_map(self, grid: GridWorld):\n",
    "        grid.grid[self.ys, self.xs] = self.value"
   ]
  },
  {
   "cell_type": "code",
   "execution_count": null,
   "metadata": {},
   "outputs": [],
   "source": [
    "world = GridWorld()"
   ]
  },
  {
   "cell_type": "code",
   "execution_count": null,
   "metadata": {},
   "outputs": [],
   "source": [
    "region_s = \"\\n\".join([f\"{k}: {v}\" for k, v in REGIONAL_GRID_VALUES.items()])\n",
    "prompt = f\"\"\"\\\n",
    "You are a creative dungeon master filling in a D&D map with one of the following categories:\n",
    "{region_s}\n",
    "Here is the current grid:\n",
    "{str(world)}\n",
    "Add one river or other body of water to the world. \\\n",
    "If it's a river, it should touch at least 2 sides of the map. \\\n",
    "All bodies of water should be connected. \\\n",
    "Please follow the requested json format.\n",
    "\n",
    "Answer: \\\n",
    "\"\"\""
   ]
  },
  {
   "cell_type": "code",
   "execution_count": null,
   "metadata": {},
   "outputs": [],
   "source": [
    "region_s = \"\\n\".join([f\"{k}: {v}\" for k, v in REGIONAL_GRID_VALUES.items()])\n",
    "prompt = f\"\"\"\\\n",
    "You are a creative dungeon master filling in a D&D map with one of the following categories:\n",
    "{region_s}\n",
    "Here is the current {world.width} x {world.height} grid:\n",
    "{str(world)}\n",
    "Please add the following to the map:\n",
    "2-3 cities/towns\n",
    "Meandering roads connecting the cities\n",
    "A river that touches at least 2 sides of the map\n",
    "Mountains and foothills\n",
    "\n",
    "Answer: \\\n",
    "\"\"\""
   ]
  },
  {
   "cell_type": "code",
   "execution_count": null,
   "metadata": {},
   "outputs": [],
   "source": [
    "output = get_llm().complete(prompt)"
   ]
  },
  {
   "cell_type": "code",
   "execution_count": null,
   "metadata": {},
   "outputs": [],
   "source": [
    "output"
   ]
  },
  {
   "cell_type": "code",
   "execution_count": null,
   "metadata": {},
   "outputs": [],
   "source": [
    "program = LLMTextCompletionProgram.from_defaults(output_cls=MapItem, prompt_template_str=prompt, llm=get_llm())"
   ]
  },
  {
   "cell_type": "code",
   "execution_count": null,
   "metadata": {},
   "outputs": [],
   "source": []
  },
  {
   "cell_type": "code",
   "execution_count": null,
   "metadata": {},
   "outputs": [],
   "source": [
    "output"
   ]
  },
  {
   "cell_type": "code",
   "execution_count": null,
   "metadata": {},
   "outputs": [],
   "source": [
    "output.add_to_map(world)"
   ]
  },
  {
   "cell_type": "code",
   "execution_count": null,
   "metadata": {},
   "outputs": [],
   "source": [
    "world.show()"
   ]
  },
  {
   "cell_type": "code",
   "execution_count": null,
   "metadata": {},
   "outputs": [],
   "source": []
  }
 ],
 "metadata": {
  "kernelspec": {
   "display_name": "autodm",
   "language": "python",
   "name": "python3"
  },
  "language_info": {
   "codemirror_mode": {
    "name": "ipython",
    "version": 3
   },
   "file_extension": ".py",
   "mimetype": "text/x-python",
   "name": "python",
   "nbconvert_exporter": "python",
   "pygments_lexer": "ipython3",
   "version": "3.11.9"
  }
 },
 "nbformat": 4,
 "nbformat_minor": 2
}
