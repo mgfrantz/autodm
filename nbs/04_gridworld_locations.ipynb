{
 "cells": [
  {
   "cell_type": "code",
   "execution_count": null,
   "metadata": {},
   "outputs": [],
   "source": [
    "import numpy as np\n",
    "from autodm.llm import get_llm\n",
    "\n",
    "from pydantic import BaseModel, Field\n",
    "from typing import Union, Literal, Optional, Any, List\n",
    "from rich import print\n",
    "import matplotlib.pyplot as plt"
   ]
  },
  {
   "cell_type": "code",
   "execution_count": null,
   "metadata": {},
   "outputs": [],
   "source": [
    "from llama_index.core.program import LLMTextCompletionProgram"
   ]
  },
  {
   "cell_type": "code",
   "execution_count": null,
   "metadata": {},
   "outputs": [],
   "source": [
    "llm = get_llm()"
   ]
  },
  {
   "cell_type": "code",
   "execution_count": null,
   "metadata": {},
   "outputs": [],
   "source": [
    "scales = Literal['miles', 'feet']"
   ]
  },
  {
   "cell_type": "code",
   "execution_count": null,
   "metadata": {},
   "outputs": [],
   "source": [
    "scales = Literal['miles', 'feet']\n",
    "\n",
    "class GridWorld(BaseModel):\n",
    "    width:int = Field(50, description=\"Width of the grid\", ge=1)\n",
    "    height:int = Field(50, description=\"Height of the grid\", ge=1)\n",
    "    scale:int = Field(1, description=\"Number of units \", ge=1)\n",
    "    scale_unit: scales = Field('miles', description=\"Unit of the scale\")\n",
    "    grid: Optional[Any] = Field(None, description=\"Grid of the world\")\n",
    "\n",
    "    def model_post_init(self, __context: Any) -> None:\n",
    "        self.grid = np.zeros((self.height, self.width), dtype=int)\n",
    "\n",
    "    def show(self):\n",
    "        plt.imshow(self.grid, cmap='hot')\n",
    "\n",
    "    def __str__(self):\n",
    "        s = \"\"\n",
    "        for i in world.grid:\n",
    "            s += str(i.tolist())\n",
    "            s += '\\n'\n",
    "        return s\n",
    "    def __repr__(self):\n",
    "        return self.__str__()"
   ]
  },
  {
   "cell_type": "code",
   "execution_count": null,
   "metadata": {},
   "outputs": [],
   "source": [
    "REGIONAL_GRID_VALUES = {\n",
    "    0: \"wilderness\",\n",
    "    1: \"city/town\",\n",
    "    2: \"road\",\n",
    "    3: \"water\",\n",
    "    4: \"foothills\",\n",
    "    5: \"mountain\",\n",
    "}\n",
    "\n",
    "class MapItem(BaseModel):\n",
    "    xs: List[int]\n",
    "    ys: List[int]\n",
    "    value: int = Field(0, description=\"Value to be added to the grid\")\n",
    "\n",
    "    def add_to_map(self, grid: GridWorld):\n",
    "        grid.grid[self.ys, self.xs] = self.value"
   ]
  },
  {
   "cell_type": "code",
   "execution_count": null,
   "metadata": {},
   "outputs": [],
   "source": [
    "world = GridWorld()"
   ]
  },
  {
   "cell_type": "code",
   "execution_count": null,
   "metadata": {},
   "outputs": [],
   "source": [
    "region_s = \"\\n\".join([f\"{k}: {v}\" for k, v in REGIONAL_GRID_VALUES.items()])\n",
    "prompt = f\"\"\"\\\n",
    "You are a creative dungeon master filling in a D&D map with one of the following categories:\n",
    "{region_s}\n",
    "Here is the current grid:\n",
    "{str(world)}\n",
    "Add one river or other body of water to the world. \\\n",
    "If it's a river, it should touch at least 2 sides of the map. \\\n",
    "All bodies of water should be connected. \\\n",
    "Please follow the requested json format.\n",
    "\n",
    "Answer: \\\n",
    "\"\"\""
   ]
  },
  {
   "cell_type": "code",
   "execution_count": null,
   "metadata": {},
   "outputs": [],
   "source": [
    "region_s = \"\\n\".join([f\"{k}: {v}\" for k, v in REGIONAL_GRID_VALUES.items()])\n",
    "prompt = f\"\"\"\\\n",
    "You are a creative dungeon master filling in a D&D map with one of the following categories:\n",
    "{region_s}\n",
    "Here is the current {world.width} x {world.height} grid:\n",
    "{str(world)}\n",
    "Please add the following to the map:\n",
    "2-3 cities/towns\n",
    "Meandering roads connecting the cities\n",
    "A river that touches at least 2 sides of the map\n",
    "Mountains and foothills\n",
    "\n",
    "Answer: \\\n",
    "\"\"\""
   ]
  },
  {
   "cell_type": "code",
   "execution_count": null,
   "metadata": {},
   "outputs": [],
   "source": [
    "output = get_llm().complete(prompt)"
   ]
  },
  {
   "cell_type": "code",
   "execution_count": null,
   "metadata": {},
   "outputs": [],
   "source": [
    "output"
   ]
  },
  {
   "cell_type": "code",
   "execution_count": null,
   "metadata": {},
   "outputs": [],
   "source": [
    "program = LLMTextCompletionProgram.from_defaults(output_cls=MapItem, prompt_template_str=prompt, llm=get_llm())"
   ]
  },
  {
   "cell_type": "code",
   "execution_count": null,
   "metadata": {},
   "outputs": [],
   "source": []
  },
  {
   "cell_type": "code",
   "execution_count": null,
   "metadata": {},
   "outputs": [],
   "source": [
    "output"
   ]
  },
  {
   "cell_type": "code",
   "execution_count": null,
   "metadata": {},
   "outputs": [],
   "source": [
    "output.add_to_map(world)"
   ]
  },
  {
   "cell_type": "code",
   "execution_count": null,
   "metadata": {},
   "outputs": [],
   "source": [
    "world.show()"
   ]
  },
  {
   "cell_type": "code",
   "execution_count": null,
   "metadata": {},
   "outputs": [],
   "source": []
  }
 ],
 "metadata": {
  "kernelspec": {
   "display_name": "autodm",
   "language": "python",
   "name": "python3"
  },
  "language_info": {
   "codemirror_mode": {
    "name": "ipython",
    "version": 3
   },
   "file_extension": ".py",
   "mimetype": "text/x-python",
   "name": "python",
   "nbconvert_exporter": "python",
   "pygments_lexer": "ipython3",
   "version": "3.11.9"
  }
 },
 "nbformat": 4,
 "nbformat_minor": 2
}
