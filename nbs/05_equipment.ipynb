{
 "cells": [
  {
   "cell_type": "code",
   "execution_count": 1,
   "metadata": {},
   "outputs": [
    {
     "name": "stderr",
     "output_type": "stream",
     "text": [
      "/Users/michaelfrantz/miniconda3/envs/autodm/lib/python3.11/site-packages/tqdm/auto.py:21: TqdmWarning: IProgress not found. Please update jupyter and ipywidgets. See https://ipywidgets.readthedocs.io/en/stable/user_install.html\n",
      "  from .autonotebook import tqdm as notebook_tqdm\n",
      "/Users/michaelfrantz/miniconda3/envs/autodm/lib/python3.11/site-packages/pydantic/_internal/_fields.py:160: UserWarning: Field \"model_id\" has conflict with protected namespace \"model_\".\n",
      "\n",
      "You may be able to resolve this warning by setting `model_config['protected_namespaces'] = ()`.\n",
      "  warnings.warn(\n"
     ]
    }
   ],
   "source": [
    "from autodm.llm import get_llm\n",
    "from autodm.roll import DiceType, Dice\n",
    "from pydantic import BaseModel, Field\n",
    "from typing import List, Optional, Dict\n",
    "from tenacity import retry, stop_after_attempt\n",
    "from llama_index.core.program import LLMTextCompletionProgram\n",
    "from llama_index.core import PromptTemplate\n",
    "\n",
    "from rich import print"
   ]
  },
  {
   "cell_type": "code",
   "execution_count": 2,
   "metadata": {},
   "outputs": [],
   "source": [
    "llm = get_llm()"
   ]
  },
  {
   "cell_type": "code",
   "execution_count": 3,
   "metadata": {},
   "outputs": [],
   "source": [
    "DEFAULT_STORYLINE = \"\""
   ]
  },
  {
   "cell_type": "code",
   "execution_count": 4,
   "metadata": {},
   "outputs": [],
   "source": [
    "def parse_rarity(rarity: int):\n",
    "    if rarity <= 8:\n",
    "        return \"Common, every day item. Nothing fancy. Often do not have any special properties. Should have a name like 'short sword', 'bow', or 'basic wand'.\"\n",
    "    elif rarity <= 15:\n",
    "        return \"Uncommon. A bit more uncommon, but still not too hard to find. May have one special property, but nothing fancy. May have a name like 'flaming sword', 'bow of accuracy', or 'wand of light'.\"\n",
    "    elif rarity <= 19:\n",
    "        return \"Rare. Not many people have seen one of these. Often have 2-3 special properties. May have a cooler name such as 'whispering blade', 'bow of the hunt', or 'wand of the archmage'.\"\n",
    "    else:\n",
    "        return \"Legendary. Extremely rare. Often have 4-5 special properties. Has an awesome name like 'blade of the dragon', 'bow of the storm', or 'wand of the gods'.\""
   ]
  },
  {
   "cell_type": "code",
   "execution_count": 5,
   "metadata": {},
   "outputs": [],
   "source": [
    "class Item(BaseModel):\n",
    "    \"A class to represent an item for D&D\"\n",
    "    name: str = Field(..., title=\"Name of the item\", description=\"Name of the item\")\n",
    "    description: str = Field(..., title=\"Description of the item\", description=\"Description of the item\")\n",
    "    quantity: Optional[int] = Field(1, title=\"Quantity of the item\", description=\"Quantity of the item\", ge=0)\n",
    "    location: Optional[str] = Field(None, title=\"Location of the item\", description=\"Location of the item. For example, 'worn', 'pack', etc.\")\n",
    "    bonus: Optional[Dict[str, int]] = Field({}, title=\"Bonus of the item\", description=\"Bonus of the item. For example, {'strengh': 1}\")\n",
    "\n",
    "    @classmethod\n",
    "    @retry(stop=stop_after_attempt(3))\n",
    "    def generate(cls, storyline=DEFAULT_STORYLINE, rarity=None, name=None, description=None, quantity=None, location=None, bonus=None):\n",
    "        if rarity is None:\n",
    "            rarity = Dice().roll()\n",
    "            rarity = parse_rarity(rarity)\n",
    "        property_str = \"rarity: {rarity}\\n\"\n",
    "        for property, value in zip(['name', 'description', 'quantity', 'location'], [name, description, quantity, location]):\n",
    "            if value:\n",
    "                if isinstance(value, dict):\n",
    "                    value = ', '.join([f\"{k}: {v}\" for k, v in value.items()])\n",
    "                property_str += f\"{property}: {value}\\n\"\n",
    "        if property_str == \"\":\n",
    "            property_str = \"No properties given. Make up appropriate ones.\"\n",
    "        pt = PromptTemplate(\"\"\"\\\n",
    "Please help create a new D&D item. The item should have the following properties:\n",
    "{property_str}\n",
    "\n",
    "Please make sure the item is in line with the following text:\n",
    "{storyline}\n",
    "Answer: \\\n",
    "\"\"\").partial_format(property_str=property_str)\n",
    "        program = LLMTextCompletionProgram.from_defaults(llm=get_llm(temperature=1.2), output_cls=Item, prompt=pt)\n",
    "        return program(storyline=storyline)\n"
   ]
  },
  {
   "cell_type": "code",
   "execution_count": 6,
   "metadata": {},
   "outputs": [],
   "source": [
    "class Weapon(Item):\n",
    "    \"A class to represent a weapon for D&D\"\n",
    "    damage_type: str = Field(..., title=\"Damage type of the weapon\", description=\"Damage type of the weapon\")\n",
    "    damage_roll: DiceType = Field(DiceType.D6, title=\"Damage roll of the weapon\", description=\"Damage roll of the weapon\")\n",
    "    properties: List[str] = Field([], title=\"Properties of the weapon\", description=\"Properties of the weapon\")\n",
    "    range_ft: int = Field(5, title=\"Range of the weapon\", description=\"Range of the weapon\", ge=0, le=10)\n",
    "\n",
    "    @classmethod\n",
    "    @retry(stop=stop_after_attempt(3))\n",
    "    def generate(cls, storyline=DEFAULT_STORYLINE, rarity=None, name=None, description=None, quantity=None, location=None, bonus=None):\n",
    "        if rarity is None:\n",
    "            rarity_num = Dice().roll()\n",
    "            rarity = parse_rarity(rarity_num)\n",
    "        print(rarity)\n",
    "        property_str = \"rarity: {rarity}\\n\"\n",
    "        for property, value in zip(['name', 'description', 'quantity', 'location'], [name, description, quantity, location]):\n",
    "            if value:\n",
    "                if isinstance(value, dict):\n",
    "                    value = ', '.join([f\"{k}: {v}\" for k, v in value.items()])\n",
    "                property_str += f\"{property}: {value}\\n\"\n",
    "        if property_str == \"\":\n",
    "            property_str = \"No properties given. Make up appropriate ones.\"\n",
    "        pt = PromptTemplate(\"\"\"\\\n",
    "Please help create a new D&D melee weapon. The item should have the following properties:\n",
    "{property_str}\n",
    "\n",
    "Please make sure the item is in line with the following text:\n",
    "{storyline}\n",
    "Answer: \\\n",
    "\"\"\").partial_format(property_str=property_str)\n",
    "        program = LLMTextCompletionProgram.from_defaults(llm=get_llm(), output_cls=Weapon, prompt=pt)\n",
    "        return program(storyline=storyline)\n"
   ]
  },
  {
   "cell_type": "code",
   "execution_count": 7,
   "metadata": {},
   "outputs": [],
   "source": [
    "class RangeWeapon(Weapon):\n",
    "    \"A class to represent a ranged weapon for D&D\"\n",
    "    ammunition: str = Field(None, title=\"Ammunition of the weapon\", description=\"Ammunition of the weapon. For example 'arrows', 'bolts', etc.\")\n",
    "    damage_roll: DiceType = Field(DiceType.D4, title=\"Damage roll of the weapon\", description=\"Damage roll of the weapon\")\n",
    "    range_ft: int = Field(5, title=\"Range of the weapon\", description=\"Range of the weapon\", ge=30, le=300)\n",
    "\n",
    "    @classmethod\n",
    "    @retry(stop=stop_after_attempt(9))\n",
    "    def generate(cls, storyline=DEFAULT_STORYLINE, rarity=None, name=None, description=None, quantity=None, location=None, bonus=None):\n",
    "        if rarity is None:\n",
    "            rarity_num = Dice().roll()\n",
    "            rarity = parse_rarity(rarity_num)\n",
    "        print(rarity)\n",
    "        property_str = \"rarity: {rarity}\\n\"\n",
    "        for property, value in zip(['name', 'description', 'quantity', 'location'], [name, description, quantity, location]):\n",
    "            if value:\n",
    "                if isinstance(value, dict):\n",
    "                    value = ', '.join([f\"{k}: {v}\" for k, v in value.items()])\n",
    "                property_str += f\"{property}: {value}\\n\"\n",
    "        if property_str == \"\":\n",
    "            property_str = \"No properties given. Make up appropriate ones.\"\n",
    "        pt = PromptTemplate(\"\"\"\\\n",
    "Create a new D&D ranged weapon such as a bow, crossbow, javelin, spear, etc. The item should have the following properties:\n",
    "{property_str}\n",
    "\n",
    "Please make sure the item is in line with the following text:\n",
    "{storyline}\n",
    "Answer: \\\n",
    "\"\"\").partial_format(property_str=property_str)\n",
    "        program = LLMTextCompletionProgram.from_defaults(llm=get_llm(), output_cls=RangeWeapon, prompt=pt)\n",
    "        return program(storyline=storyline)\n"
   ]
  },
  {
   "cell_type": "code",
   "execution_count": 11,
   "metadata": {},
   "outputs": [
    {
     "data": {
      "text/html": [
       "<pre style=\"white-space:pre;overflow-x:auto;line-height:normal;font-family:Menlo,'DejaVu Sans Mono',consolas,'Courier New',monospace\">Uncommon. A bit more uncommon, but still not too hard to find. May have one special property, but nothing fancy. \n",
       "May have a name like <span style=\"color: #008000; text-decoration-color: #008000\">'flaming sword'</span>, <span style=\"color: #008000; text-decoration-color: #008000\">'bow of accuracy'</span>, or <span style=\"color: #008000; text-decoration-color: #008000\">'wand of light'</span>.\n",
       "</pre>\n"
      ],
      "text/plain": [
       "Uncommon. A bit more uncommon, but still not too hard to find. May have one special property, but nothing fancy. \n",
       "May have a name like \u001b[32m'flaming sword'\u001b[0m, \u001b[32m'bow of accuracy'\u001b[0m, or \u001b[32m'wand of light'\u001b[0m.\n"
      ]
     },
     "metadata": {},
     "output_type": "display_data"
    },
    {
     "data": {
      "text/html": [
       "<pre style=\"white-space:pre;overflow-x:auto;line-height:normal;font-family:Menlo,'DejaVu Sans Mono',consolas,'Courier New',monospace\"><span style=\"color: #800080; text-decoration-color: #800080; font-weight: bold\">RangeWeapon</span><span style=\"font-weight: bold\">(</span>\n",
       "    <span style=\"color: #808000; text-decoration-color: #808000\">name</span>=<span style=\"color: #008000; text-decoration-color: #008000\">\"Thundercaller's Javelin\"</span>,\n",
       "    <span style=\"color: #808000; text-decoration-color: #808000\">description</span>=<span style=\"color: #008000; text-decoration-color: #008000\">'This javelin has been infused with magical energies that call forth thunder when thrown, stunning </span>\n",
       "<span style=\"color: #008000; text-decoration-color: #008000\">enemies within a radius.'</span>,\n",
       "    <span style=\"color: #808000; text-decoration-color: #808000\">quantity</span>=<span style=\"color: #008080; text-decoration-color: #008080; font-weight: bold\">1</span>,\n",
       "    <span style=\"color: #808000; text-decoration-color: #808000\">location</span>=<span style=\"color: #800080; text-decoration-color: #800080; font-style: italic\">None</span>,\n",
       "    <span style=\"color: #808000; text-decoration-color: #808000\">bonus</span>=<span style=\"font-weight: bold\">{</span><span style=\"color: #008000; text-decoration-color: #008000\">'strengh'</span>: <span style=\"color: #008080; text-decoration-color: #008080; font-weight: bold\">2</span><span style=\"font-weight: bold\">}</span>,\n",
       "    <span style=\"color: #808000; text-decoration-color: #808000\">damage_type</span>=<span style=\"color: #008000; text-decoration-color: #008000\">'Thunder'</span>,\n",
       "    <span style=\"color: #808000; text-decoration-color: #808000\">damage_roll</span>=<span style=\"font-weight: bold\">&lt;</span><span style=\"color: #ff00ff; text-decoration-color: #ff00ff; font-weight: bold\">DiceType.D8:</span><span style=\"color: #000000; text-decoration-color: #000000\"> </span><span style=\"color: #008080; text-decoration-color: #008080; font-weight: bold\">8</span><span style=\"font-weight: bold\">&gt;</span>,\n",
       "    <span style=\"color: #808000; text-decoration-color: #808000\">properties</span>=<span style=\"font-weight: bold\">[</span><span style=\"color: #008000; text-decoration-color: #008000\">'Stuns enemies within a 10-foot radius upon impact'</span><span style=\"font-weight: bold\">]</span>,\n",
       "    <span style=\"color: #808000; text-decoration-color: #808000\">range_ft</span>=<span style=\"color: #008080; text-decoration-color: #008080; font-weight: bold\">60</span>,\n",
       "    <span style=\"color: #808000; text-decoration-color: #808000\">ammunition</span>=<span style=\"color: #008000; text-decoration-color: #008000\">'None'</span>\n",
       "<span style=\"font-weight: bold\">)</span>\n",
       "</pre>\n"
      ],
      "text/plain": [
       "\u001b[1;35mRangeWeapon\u001b[0m\u001b[1m(\u001b[0m\n",
       "    \u001b[33mname\u001b[0m=\u001b[32m\"Thundercaller\u001b[0m\u001b[32m's Javelin\"\u001b[0m,\n",
       "    \u001b[33mdescription\u001b[0m=\u001b[32m'This javelin has been infused with magical energies that call forth thunder when thrown, stunning \u001b[0m\n",
       "\u001b[32menemies within a radius.'\u001b[0m,\n",
       "    \u001b[33mquantity\u001b[0m=\u001b[1;36m1\u001b[0m,\n",
       "    \u001b[33mlocation\u001b[0m=\u001b[3;35mNone\u001b[0m,\n",
       "    \u001b[33mbonus\u001b[0m=\u001b[1m{\u001b[0m\u001b[32m'strengh'\u001b[0m: \u001b[1;36m2\u001b[0m\u001b[1m}\u001b[0m,\n",
       "    \u001b[33mdamage_type\u001b[0m=\u001b[32m'Thunder'\u001b[0m,\n",
       "    \u001b[33mdamage_roll\u001b[0m=\u001b[1m<\u001b[0m\u001b[1;95mDiceType.D8:\u001b[0m\u001b[39m \u001b[0m\u001b[1;36m8\u001b[0m\u001b[1m>\u001b[0m,\n",
       "    \u001b[33mproperties\u001b[0m=\u001b[1m[\u001b[0m\u001b[32m'Stuns enemies within a 10-foot radius upon impact'\u001b[0m\u001b[1m]\u001b[0m,\n",
       "    \u001b[33mrange_ft\u001b[0m=\u001b[1;36m60\u001b[0m,\n",
       "    \u001b[33mammunition\u001b[0m=\u001b[32m'None'\u001b[0m\n",
       "\u001b[1m)\u001b[0m\n"
      ]
     },
     "metadata": {},
     "output_type": "display_data"
    }
   ],
   "source": [
    "print(RangeWeapon.generate())"
   ]
  },
  {
   "cell_type": "code",
   "execution_count": null,
   "metadata": {},
   "outputs": [],
   "source": [
    "class Spell(BaseModel):\n",
    "    \"A class to represent a spell for D&D\"\n",
    "    name: str = Field(..., title=\"Name of the spell\", description=\"Name of the spell\")\n",
    "    description: str = Field(..., title=\"Description of the spell\", description=\"Description of the spell\")\n",
    "    level: int = Field(..., title=\"Level of the spell\", description=\"Level of the spell\", ge=0, le=9)\n",
    "    damage_roll: DiceType = Field(DiceType.D6, title=\"Damage roll of the spell\", description=\"Damage roll of the spell\")\n",
    "    num_dice: int = Field(1, title=\"Number of dice for the spell\", description=\"Number of dice for the spell\", ge=1)\n",
    "    range_ft: int = Field(20, title=\"Range of the spell\", description=\"Range of the spell\", ge=0, le=300)\n",
    "    components: Optional[List[str]] = Field([], title=\"Components of the spell\", description=\"Components of the spell\")\n",
    "    duration: str = Field(..., title=\"Duration of the spell\", description=\"Duration of the spell\")"
   ]
  },
  {
   "cell_type": "code",
   "execution_count": null,
   "metadata": {},
   "outputs": [],
   "source": [
    "class Wand(Item):\n",
    "    \"A class to represent a wand for D&D\"\n",
    "    charges: Optional[int] = Field(1, title=\"Charges of the wand\", description=\"Charges of the wand\", ge=0)\n",
    "    spell: Optional[Spell] = Field(..., title=\"Spell of the wand\", description=\"Spell of the wand\")"
   ]
  },
  {
   "cell_type": "code",
   "execution_count": null,
   "metadata": {},
   "outputs": [],
   "source": []
  }
 ],
 "metadata": {
  "kernelspec": {
   "display_name": "autodm",
   "language": "python",
   "name": "python3"
  },
  "language_info": {
   "codemirror_mode": {
    "name": "ipython",
    "version": 3
   },
   "file_extension": ".py",
   "mimetype": "text/x-python",
   "name": "python",
   "nbconvert_exporter": "python",
   "pygments_lexer": "ipython3",
   "version": "3.11.9"
  }
 },
 "nbformat": 4,
 "nbformat_minor": 2
}
