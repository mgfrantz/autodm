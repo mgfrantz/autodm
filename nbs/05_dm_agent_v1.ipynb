{
 "cells": [
  {
   "cell_type": "code",
   "execution_count": null,
   "metadata": {},
   "outputs": [],
   "source": [
    "%load_ext autoreload\n",
    "%autoreload 2"
   ]
  },
  {
   "cell_type": "code",
   "execution_count": null,
   "metadata": {},
   "outputs": [],
   "source": [
    "from dotenv import load_dotenv\n",
    "load_dotenv('../.env')"
   ]
  },
  {
   "cell_type": "code",
   "execution_count": null,
   "metadata": {},
   "outputs": [],
   "source": [
    "from autodm.llm import get_llm\n",
    "from autodm.roll import Dice, DiceType\n",
    "from autodm.character import Character\n",
    "from autodm.adventurelog import AdventureLog\n",
    "\n",
    "from llama_index.core.tools import FunctionTool, QueryEngineTool\n",
    "from llama_index.core.agent import ReActAgent\n",
    "from llama_index.core.llms import ChatMessage\n",
    "import typing as T\n",
    "import gradio as gr\n",
    "\n",
    "from typing import List, Union\n",
    "from rich import print"
   ]
  },
  {
   "cell_type": "code",
   "execution_count": null,
   "metadata": {},
   "outputs": [],
   "source": [
    "character = Character.generate(name='Aldrin', level=1)"
   ]
  },
  {
   "cell_type": "code",
   "execution_count": null,
   "metadata": {},
   "outputs": [],
   "source": [
    "character.spells = ['magic missile', 'light']\n",
    "character.equipment = ['simple wand', 'simple robe']"
   ]
  },
  {
   "cell_type": "code",
   "execution_count": null,
   "metadata": {},
   "outputs": [],
   "source": [
    "print(character)"
   ]
  },
  {
   "cell_type": "code",
   "execution_count": null,
   "metadata": {},
   "outputs": [],
   "source": [
    "log = AdventureLog()\n",
    "log.clear()\n",
    "log = AdventureLog()\n",
    "opening = f\"\"\"\\\n",
    "You are a {character.chr_race} {character.chr_class} named {character.name}.\\\n",
    "\"\"\"\n",
    "print(opening)\n",
    "\n",
    "log.add_entry(opening)\n",
    "\n",
    "adventure_log_tool = QueryEngineTool.from_defaults(\n",
    "    query_engine=log.index.as_query_engine(llm=get_llm()), \n",
    "    description=\"Use this tool when you want to look up anything that has happened in the game.\",\n",
    "    name='adventure_log_tool'\n",
    ")"
   ]
  },
  {
   "cell_type": "code",
   "execution_count": null,
   "metadata": {},
   "outputs": [],
   "source": [
    "def roll(dice_type: Union[int, DiceType] = DiceType.D20, dice_count: int = 1) -> str:\n",
    "    \"Rolls 1 or more die. Dice can be of type D4, D6, D8, D10, D12, or D20. \\\n",
    "You can also roll multiple dice at once, and the result is the sum of the rolls.\"\n",
    "    dice = Dice(type=DiceType(dice_type), count=dice_count)\n",
    "    return f\"Rolling {dice_count}d{dice_type}. Result: {dice.roll()}\"\n",
    "\n",
    "roll_tool = FunctionTool.from_defaults(roll, description=\"Use this tool when you want to roll dice to determine the outcome of an action.\")"
   ]
  },
  {
   "cell_type": "code",
   "execution_count": null,
   "metadata": {},
   "outputs": [],
   "source": [
    "agent = ReActAgent.from_tools(tools=[adventure_log_tool, roll_tool], llm=get_llm(), verbose=1)\n",
    "pt = agent.get_prompts()['agent_worker:system_prompt']\n",
    "character_str = f\"The player's character is a {character.chr_race} {character.chr_class} of level {character.level} named {character.name}. \\\n",
    "The character has {character.hp} out of {character.max_hp} HP, and the following attributes: {character.attributes}. \"\n",
    "\n",
    "new_template = \"\"\"\\\n",
    "You are a talented D&D dungeon master whose goal is to walk the player through a D&D campaign. \\\n",
    "When the player asks you a question, you should use the tools at your disposal to answer the question. \\\n",
    "If the player takes an action, make sure the result is in line with D&D rules and preveious events in the adventure log. \\\n",
    "If there is no tool available to answer the question, you create exciting and funny experiences for the player. \\\n",
    "Try to match the player's tone and style to keep them engaged. \\\n",
    "Also make sure to regularly progress the story by providing the player with new information. \\\n",
    "You may also roll dice for the player when appropriate, including attack rolls, saving throws, and skill checks. \\\n",
    "%s \n",
    "\n",
    "## Tools\n",
    "\n",
    "You have access to a wide variety of tools. You are responsible for using the tools in any sequence you deem appropriate to complete the task at hand. \\\n",
    "This may require breaking the task into subtasks and using different tools to complete each subtask. \\\n",
    "Once you complete the task, you will provide the answer to the player. \\\n",
    "Do not take additional actions on behalf of the player unless instructed to do so - for example, if they say \"look around,\" describe what they see according to the detail of a perception roll. \\\n",
    "Do not take any additional steps. \\\n",
    "\n",
    "You have access to the following tools:\n",
    "{tool_desc}\n",
    "\n",
    "\n",
    "## Output Format\n",
    "\n",
    "Please answer in English using the following format:\n",
    "\n",
    "```\n",
    "Thought: I need to use a tool to help me answer the question.\n",
    "Action: tool name (one of {tool_names}) if using a tool.\n",
    "Action Input: the input to the tool, in a JSON format representing the kwargs (e.g. {{\"input\": \"hello world\", \"num_beams\": 5}})\n",
    "```\n",
    "\n",
    "Please ALWAYS start with a Thought.\n",
    "\n",
    "Please use a valid JSON format for the Action Input. Do NOT do this {{'input': 'hello world', 'num_beams': 5}}.\n",
    "\n",
    "If this format is used, the user will respond in the following format:\n",
    "\n",
    "```\n",
    "Observation: tool response\n",
    "```\n",
    "\n",
    "You should keep repeating the above format until you have enough information to answer the question without using \n",
    "any more tools. At that point, you MUST respond in the one of the following two formats:\n",
    "\n",
    "```\n",
    "Thought: I can answer without using any more tools. I'll use the user's language to answer\n",
    "Answer: \n",
    "```\n",
    "\n",
    "```\n",
    "Thought: I cannot answer the question with the provided tools. I will create an engaging experience for the player.\n",
    "Answer: \n",
    "```\n",
    "\n",
    "## Current Conversation\n",
    "\n",
    "Below is the current conversation consisting of interleaving human and assistant messages.\\\n",
    "\"\"\" % character_str\n",
    "\n",
    "pt.template = new_template\n",
    "agent.update_prompts({'agent_worker:system_prompt': pt})"
   ]
  },
  {
   "cell_type": "code",
   "execution_count": null,
   "metadata": {},
   "outputs": [],
   "source": [
    "def msg(message: str, user='player') -> str:\n",
    "    log.add_entry(message, user=user)\n",
    "    response = agent.chat(message)\n",
    "    log.add_entry(response.response, user='dm')\n",
    "    return response.response"
   ]
  },
  {
   "cell_type": "code",
   "execution_count": null,
   "metadata": {},
   "outputs": [],
   "source": [
    "resp = msg(\"Create an engaging opening for a D&D game by describing how the player enters a new and uncharted territory.\", 'dm')"
   ]
  },
  {
   "cell_type": "code",
   "execution_count": null,
   "metadata": {},
   "outputs": [],
   "source": [
    "import gradio as gr"
   ]
  },
  {
   "cell_type": "code",
   "execution_count": null,
   "metadata": {},
   "outputs": [],
   "source": [
    "def respond(message, chat_history):\n",
    "    bot_message = msg(message)\n",
    "    chat_history.append((message, bot_message))\n",
    "    return '', chat_history"
   ]
  },
  {
   "cell_type": "code",
   "execution_count": null,
   "metadata": {},
   "outputs": [],
   "source": [
    "with gr.Blocks() as demo:\n",
    "    chatbot = gr.Chatbot(value=[(\"\", resp)])\n",
    "    message = gr.Textbox()\n",
    "    clear = gr.ClearButton([message, chatbot])\n",
    "\n",
    "    message.submit(respond, [message, chatbot], [message, chatbot])\n",
    "\n",
    "demo.launch(inline=False)"
   ]
  },
  {
   "cell_type": "code",
   "execution_count": null,
   "metadata": {},
   "outputs": [],
   "source": []
  }
 ],
 "metadata": {
  "kernelspec": {
   "display_name": "autodm",
   "language": "python",
   "name": "python3"
  },
  "language_info": {
   "codemirror_mode": {
    "name": "ipython",
    "version": 3
   },
   "file_extension": ".py",
   "mimetype": "text/x-python",
   "name": "python",
   "nbconvert_exporter": "python",
   "pygments_lexer": "ipython3",
   "version": "3.11.9"
  }
 },
 "nbformat": 4,
 "nbformat_minor": 2
}
